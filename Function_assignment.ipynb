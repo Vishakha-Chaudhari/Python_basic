{
  "cells": [
    {
      "cell_type": "markdown",
      "metadata": {
        "id": "4ww3ytW41kgY"
      },
      "source": [
        "Function Assignment\n",
        "\n",
        "Theory Questions\n",
        "\n",
        "1. What is the difference between a function and a method in Python?\n",
        "\n",
        "ans :-\n",
        "  \n",
        "  Function: A block of code that performs a specific task and can be called independently.\n",
        "\n",
        "  example :\n",
        "\n",
        "    def greet():\n",
        "        print(\"Hello!\")\n",
        "    greet()\n",
        "\n",
        "\n",
        "  Method: A function that is associated with an object. It’s called on an object using dot notation.\n",
        "\n",
        "  example:\n",
        "\n",
        "    name = \"Python\"\n",
        "    name.upper()  # 'upper' is a method of string objects\n",
        "\n",
        "2. Explain the concept of function arguments and parameters in Python.\n",
        "\n",
        "ans :-\n",
        "  **Parameters** are variables listed in a function’s definition.\n",
        "\n",
        "  example:\n",
        "\n",
        "      def add(a, b):  # a and b are parameters\n",
        "        return a + b\n",
        "\n",
        "  **Arguments** are the values passed to those parameters when the function is called.\n",
        "\n",
        "  example:\n",
        "\n",
        "      add(5, 3)  # 5 and 3 are arguments\n",
        "\n",
        "3. What are the different ways to define and call a function in Python?\n",
        "\n",
        "ans:-\n",
        "\n",
        "  1. Defining a function:\n",
        "\n",
        "    def say_hello():\n",
        "        print(\"Hello!\")\n",
        "\n",
        "\n",
        "  2. Calling a function:\n",
        "\n",
        "    say_hello()\n",
        "\n",
        "\n",
        "  3. Using a lambda function (anonymous function):\n",
        "\n",
        "    square = lambda x: x * x\n",
        "    print(square(5))\n",
        "\n",
        "4. What is the purpose of the `return` statement in a Python function?\n",
        "ans:\n",
        "\n",
        "  The return statement sends a value back from a function to the caller.\n",
        "\n",
        "  example\n",
        "\n",
        "    def add(a, b):\n",
        "        return a + b\n",
        "\n",
        "    result = add(3, 4)  # result = 7\n",
        "\n",
        "5. What are iterators in Python and how do they differ from iterables?\n",
        "\n",
        "ans:\n",
        "\n",
        "  Iterable:\n",
        "    Any object capable of returning its elements one at a time (e.g., lists, strings, tuples).\n",
        "\n",
        "  Iterator:\n",
        "    An object returned by iter() that can be used to fetch elements using next().\n",
        "\n",
        "  example:\n",
        "\n",
        "    lst = [1, 2, 3]\n",
        "    it = iter(lst)\n",
        "    print(next(it))  # 1\n",
        "    print(next(it))  # 2\n",
        "\n",
        "6. Explain the concept of generators in Python and how they are defined.\n",
        "\n",
        "ans:\n",
        "\n",
        "  **Generators** are special functions that yield items one at a time using the yield keyword instead of return.\n",
        "\n",
        "  example:\n",
        "\n",
        "    def countdown(n):\n",
        "        while n > 0:\n",
        "            yield n\n",
        "            n -= 1\n",
        "\n",
        "\n",
        "\n",
        "7. What are the advantages of using generators over regular functions?\n",
        "\n",
        "ans:\n",
        "    1. Memory-efficient (do not store all values at once).\n",
        "\n",
        "    2. Fast for large data sets.\n",
        "\n",
        "    3. Pause and resume execution automatically.\n",
        "\n",
        "\n",
        "8. What is a lambda function in Python and when is it typically used?\n",
        "\n",
        "ans:\n",
        "\n",
        "  Anonymous, one-line functions created using the lambda keyword.\n",
        "\n",
        "    double = lambda x: x * 2\n",
        "    print(double(10))\n",
        "\n",
        "\n",
        "    Often used in map(), filter(), or short operations.\n",
        "\n",
        "9. Explain the purpose and usage of the `map()` function in Python.\n",
        "\n",
        "ans:\n",
        "  Applies a function to every element of an iterable.\n",
        "\n",
        "  example:\n",
        "\n",
        "    nums = [1, 2, 3]\n",
        "    squared = map(lambda x: x ** 2, nums)\n",
        "    print(list(squared))  # [1, 4, 9]\n",
        "\n",
        "10. What is the difference between `map()`, `reduce()`, and `filter()` functions in Python?\n",
        "\n",
        "ans:\n",
        "\n",
        "  | Function     | Purpose                                | Example           |\n",
        "  | ------------ | -------------------------------------- | ----------------- |\n",
        "  | **map()**    | Applies a function to all elements     | `map(f, data)`    |\n",
        "  | **filter()** | Keeps elements that match a condition  | `filter(f, data)` |\n",
        "  | **reduce()** | Reduces all elements to a single value | `reduce(f, data)` |\n",
        "\n",
        "\n",
        "\n",
        "\n",
        "11. Using pen & Paper write the internal mechanism for sum operation using  reduce function on this given\n",
        "\n",
        "ans:\n",
        "\n",
        "  Step-by-Step:\n",
        "\n",
        "    Initial list: [47, 11, 42, 13]\n",
        "\n",
        "    reduce(lambda x, y: x + y, lst)\n",
        "\n",
        "    Step 1: 47 + 11 = 58\n",
        "\n",
        "    Step 2: 58 + 42 = 100\n",
        "\n",
        "    Step 3: 100 + 13 = 113\n",
        "       Final Result: 113\n",
        "\n",
        "\n",
        "\n",
        "    \n",
        "    \n"
      ]
    },
    {
      "cell_type": "markdown",
      "metadata": {
        "id": "Kr2xqIfG4q9R"
      },
      "source": [
        "Precticle Assignment\n"
      ]
    },
    {
      "cell_type": "code",
      "execution_count": null,
      "metadata": {
        "colab": {
          "base_uri": "https://localhost:8080/"
        },
        "id": "ok8Jg8dc1Wci",
        "outputId": "40461e22-5599-4b79-9748-c8b640986b34"
      },
      "outputs": [
        {
          "name": "stdout",
          "output_type": "stream",
          "text": [
            "sum of even number is =  12\n"
          ]
        }
      ],
      "source": [
        "#1. Write a Python function that takes a list of numbers as input and returns the sum of all even numbers in\n",
        "#the list.\n",
        "\n",
        "def sum_of_even(lst):\n",
        "  sum = 0\n",
        "  for i in lst:\n",
        "    if i % 2== 0:\n",
        "      sum+=i\n",
        "  return sum\n",
        "\n",
        "lst = [1,2,3,4,5,6]\n",
        "result = sum_of_even(lst)\n",
        "print(\"sum of even number is = \", result)\n",
        "\n"
      ]
    },
    {
      "cell_type": "code",
      "execution_count": null,
      "metadata": {
        "colab": {
          "base_uri": "https://localhost:8080/"
        },
        "id": "ZjPjzIrr40_M",
        "outputId": "0b0e2bb7-99db-460b-ee95-3d885ad73651"
      },
      "outputs": [
        {
          "name": "stdout",
          "output_type": "stream",
          "text": [
            "Reverse of vishakha is ahkahsiv\n"
          ]
        }
      ],
      "source": [
        "#2. Create a Python function that accepts a string and returns the reverse of that string.\n",
        "\n",
        "def reverse_of_string(s):\n",
        "  return s[::-1]\n",
        "\n",
        "s =\"vishakha\"\n",
        "result = reverse_of_string(s)\n",
        "print(f\"Reverse of {s} is {result}\")\n"
      ]
    },
    {
      "cell_type": "code",
      "execution_count": null,
      "metadata": {
        "colab": {
          "base_uri": "https://localhost:8080/"
        },
        "id": "C0g1YHP343_a",
        "outputId": "8516d560-b090-4c23-f820-02108fcf0ec2"
      },
      "outputs": [
        {
          "name": "stdout",
          "output_type": "stream",
          "text": [
            "Square number list =  [1, 4, 9, 16, 25, 36]\n"
          ]
        }
      ],
      "source": [
        "#3. Implement a Python function that takes a list of integers and returns a new list containing the squares of\n",
        "#each number.\n",
        "\n",
        "def square_of_numbers(lst):\n",
        "  square_lst = []\n",
        "  for i in lst:\n",
        "    square_lst.append(i*i)\n",
        "\n",
        "  return square_lst\n",
        "\n",
        "lst = [1,2,3,4,5,6]\n",
        "result = square_of_numbers(lst)\n",
        "\n",
        "print(\"Square number list = \", result)"
      ]
    },
    {
      "cell_type": "code",
      "execution_count": null,
      "metadata": {
        "colab": {
          "base_uri": "https://localhost:8080/"
        },
        "id": "UQG0-IiA4jGS",
        "outputId": "0a01a204-9c18-4667-955f-55d4f0830bfa"
      },
      "outputs": [
        {
          "name": "stdout",
          "output_type": "stream",
          "text": [
            "2 3 5 7 11 13 17 19 23 29 31 37 41 43 47 53 59 61 67 71 73 79 83 89 97 101 103 107 109 113 127 131 137 139 149 151 157 163 167 173 179 181 191 193 197 199 "
          ]
        }
      ],
      "source": [
        "#4. Write a Python function that checks if a given number is prime or not from 1 to 200.\n",
        "\n",
        "def is_prime(num):\n",
        "  if num <= 1:\n",
        "    return False\n",
        "\n",
        "  for i in range(2, num // 2 + 1):\n",
        "    if num % i==0:\n",
        "      return False\n",
        "  return True\n",
        "\n",
        "\n",
        "for i in range(1,201):\n",
        "   if is_prime(i):\n",
        "    print(i,end=\" \")"
      ]
    },
    {
      "cell_type": "code",
      "execution_count": null,
      "metadata": {
        "colab": {
          "base_uri": "https://localhost:8080/"
        },
        "id": "vgtpnNGA5BUr",
        "outputId": "5587a6f2-f1ef-4b7b-9a15-ef770f7321b6"
      },
      "outputs": [
        {
          "name": "stdout",
          "output_type": "stream",
          "text": [
            "Fibonacci sequence:\n",
            "0 1 1 2 3 5 8 13 21 34 "
          ]
        }
      ],
      "source": [
        "# 5. Create an iterator class in Python that generates the Fibonacci sequence up to a specified number of\n",
        "# terms.\n",
        "\n",
        "class Fibonacci:\n",
        "    def __init__(self, n):\n",
        "        self.n = n\n",
        "        self.a, self.b = 0, 1\n",
        "        self.count = 0\n",
        "\n",
        "    def __iter__(self):\n",
        "        return self\n",
        "\n",
        "    def __next__(self):\n",
        "        if self.count < self.n:\n",
        "            result = self.a\n",
        "            self.a, self.b = self.b, self.a + self.b\n",
        "            self.count += 1\n",
        "            return result\n",
        "        else:\n",
        "            raise StopIteration\n",
        "\n",
        "\n",
        "fib = Fibonacci(10)\n",
        "print(\"Fibonacci sequence:\")\n",
        "for num in fib:\n",
        "    print(num, end=\" \")\n",
        "\n",
        "\n"
      ]
    },
    {
      "cell_type": "code",
      "execution_count": null,
      "metadata": {
        "colab": {
          "base_uri": "https://localhost:8080/"
        },
        "id": "1QEvXtTJ5GIB",
        "outputId": "b36c99f2-f0fb-4037-9a03-fff97d42c131"
      },
      "outputs": [
        {
          "name": "stdout",
          "output_type": "stream",
          "text": [
            "Enter the maximum exponent: 4\n",
            "Powers of 2 up to 4:\n",
            "1 2 4 8 16 "
          ]
        }
      ],
      "source": [
        "#6. Write a generator function in Python that yields the powers of 2 up to a given exponent.\n",
        "\n",
        "def power_of_two(num):\n",
        "  for i in range(num+1):\n",
        "    yield 2 ** i\n",
        "\n",
        "n = int(input(\"Enter the maximum exponent: \"))\n",
        "print(f\"Powers of 2 up to {n}:\")\n",
        "\n",
        "for value in power_of_two(n):\n",
        "    print(value, end=\" \")"
      ]
    },
    {
      "cell_type": "code",
      "execution_count": null,
      "metadata": {
        "colab": {
          "base_uri": "https://localhost:8080/"
        },
        "id": "Y38tKXX-5JDh",
        "outputId": "8edd5f65-54fa-40de-bdca-c3c605dd71ba"
      },
      "outputs": [
        {
          "name": "stdout",
          "output_type": "stream",
          "text": [
            "Enter file name: demo.txt\n",
            "\n",
            "Reading lines from 'demo.txt':\n",
            "hello,\n",
            "i am vishakha,\n",
            "i am from bilimora\n"
          ]
        }
      ],
      "source": [
        "#7. Implement a generator function that reads a file line by line and yields each line as a string.\n",
        "\n",
        "\n",
        "def read_file_line_by_line(filename):\n",
        "    \"\"\"Generator function that yields one line at a time from a file.\"\"\"\n",
        "    try:\n",
        "        with open(filename, 'r') as file:\n",
        "            for line in file:\n",
        "                yield line.strip()\n",
        "    except FileNotFoundError:\n",
        "        print(f\"Error: File '{filename}' not found.\")\n",
        "\n",
        "\n",
        "# Example usage:\n",
        "filename = input(\"Enter file name: \")\n",
        "\n",
        "print(f\"\\nReading lines from '{filename}':\")\n",
        "for line in read_file_line_by_line(filename):\n",
        "    print(line)\n",
        "\n"
      ]
    },
    {
      "cell_type": "code",
      "execution_count": null,
      "metadata": {
        "colab": {
          "base_uri": "https://localhost:8080/"
        },
        "id": "YFrncIoP5LuR",
        "outputId": "388eead9-50b7-4c19-fe77-007f8133d46f"
      },
      "outputs": [
        {
          "name": "stdout",
          "output_type": "stream",
          "text": [
            "origin list =  [(2, 5), (1, 2), (4, 4), (2, 3), (2, 1)]\n",
            "sorted tuple list =  [(2, 1), (1, 2), (2, 3), (4, 4), (2, 5)]\n"
          ]
        }
      ],
      "source": [
        "#8. Use a lambda function in Python to sort a list of tuples based on the second element of each tuple.\n",
        "\n",
        "tpl_list = [(2, 5), (1, 2), (4, 4), (2, 3), (2, 1)]\n",
        "\n",
        "sorted_list = sorted(tpl_list,key = lambda x:x[1])\n",
        "\n",
        "print(\"origin list = \", tpl_list)\n",
        "print(\"sorted tuple list = \",sorted_list)"
      ]
    },
    {
      "cell_type": "code",
      "execution_count": null,
      "metadata": {
        "colab": {
          "base_uri": "https://localhost:8080/"
        },
        "id": "y-8o0e1z5OfQ",
        "outputId": "535a18a3-8714-4eee-efa2-fabb1665b0f4"
      },
      "outputs": [
        {
          "name": "stdout",
          "output_type": "stream",
          "text": [
            "Celsius temperatures: [32, 40, 99]\n",
            "Fahrenheit temperatures: [89.6, 104.0, 210.2]\n"
          ]
        }
      ],
      "source": [
        "#9. Write a Python program that uses `map()` to convert a list of temperatures from Celsius to Fahrenheit.\n",
        "\n",
        "def cel_to_ferhnheit(n):\n",
        "  return \t(n * 9/5) + 32\n",
        "\n",
        "temp_list = [32,40,99]\n",
        "\n",
        "converted_fahrenheit = list(map(cel_to_ferhnheit,temp_list))\n",
        "\n",
        "print(\"Celsius temperatures:\", temp_list)\n",
        "print(\"Fahrenheit temperatures:\", converted_fahrenheit)"
      ]
    },
    {
      "cell_type": "code",
      "execution_count": null,
      "metadata": {
        "colab": {
          "base_uri": "https://localhost:8080/"
        },
        "id": "lx4_xIKE5Ryh",
        "outputId": "671cf1b1-ecad-4cf5-fb1f-a7a3f089f6d5"
      },
      "outputs": [
        {
          "name": "stdout",
          "output_type": "stream",
          "text": [
            "origin string = vishakha\n",
            "without vowels =  vshkh\n"
          ]
        }
      ],
      "source": [
        "#10. Create a Python program that uses `filter()` to remove all the vowels from a given string.\n",
        "\n",
        "def vowel_filter(str):\n",
        "  vowels =\"aeiou\"\n",
        "  return str not in vowels\n",
        "\n",
        "name = \"vishakha\"\n",
        "result =\"\".join(filter(vowel_filter,name))\n",
        "print(\"origin string =\", name)\n",
        "print(\"without vowels = \", result)\n",
        "\n",
        "\n"
      ]
    },
    {
      "cell_type": "code",
      "execution_count": null,
      "metadata": {
        "colab": {
          "base_uri": "https://localhost:8080/"
        },
        "id": "FtB1FJJk5WOZ",
        "outputId": "a325c02a-8567-4f27-bfde-4286cc422cff"
      },
      "outputs": [
        {
          "name": "stdout",
          "output_type": "stream",
          "text": [
            "[('34587', 163.8), ('98762', 284.0), ('77226', 108.85000000000001), ('88112', 84.97)]\n"
          ]
        }
      ],
      "source": [
        "#11\n",
        "orders = [\n",
        "    [\"34587\", \"Learning Python\", 4, 40.95],\n",
        "    [\"98762\", \"Programming Python\", 5, 56.80],\n",
        "    [\"77226\", \"Head First Python\", 3, 32.95],\n",
        "    [\"88112\", \"Einführung in Python3\", 3, 24.99]\n",
        "]\n",
        "\n",
        "invoice_totals = list(\n",
        "    map(lambda order: (order[0], order[2] * order[3] + 10 if order[2] * order[3] < 100 else order[2] * order[3]),\n",
        "        orders)\n",
        ")\n",
        "\n",
        "print(invoice_totals)\n"
      ]
    },
    {
      "cell_type": "code",
      "execution_count": null,
      "metadata": {
        "id": "P8PwKAYEJi_e"
      },
      "outputs": [],
      "source": []
    }
  ],
  "metadata": {
    "colab": {
      "provenance": []
    },
    "kernelspec": {
      "display_name": "Python 3",
      "name": "python3"
    },
    "language_info": {
      "name": "python"
    }
  },
  "nbformat": 4,
  "nbformat_minor": 0
}
