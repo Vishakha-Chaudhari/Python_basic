{
  "nbformat": 4,
  "nbformat_minor": 0,
  "metadata": {
    "colab": {
      "provenance": []
    },
    "kernelspec": {
      "name": "python3",
      "display_name": "Python 3"
    },
    "language_info": {
      "name": "python"
    }
  },
  "cells": [
    {
      "cell_type": "markdown",
      "source": [
        "Python OOPS Assignment\n",
        "\n",
        "Theory Assignment\n",
        "\n",
        "1. What is Object-Oriented Programming (OOP)\n",
        "Ans:\n",
        "    OOP is a programming paradigm based on the concept of objects, which contain data (attributes) and methods (functions) that operate on that data.\n",
        "    It helps organize complex programs into reusable, modular components.\n",
        "\n",
        "    Key principles:\n",
        "\n",
        "      Encapsulation – bundling data and methods.\n",
        "\n",
        "      Abstraction – hiding complexity.\n",
        "\n",
        "      Inheritance – reusing code from parent classes.\n",
        "\n",
        "      Polymorphism – using a single interface for multiple types.\n",
        "\n",
        "\n",
        "2. What is a class in OOP\n",
        "Ans:\n",
        "\n",
        "    A class is a blueprint or template for creating objects.\n",
        "    It defines attributes (variables) and methods (functions) that describe the behavior of its objects.\n",
        "\n",
        "  Example:\n",
        "\n",
        "    class Car:   \n",
        "        def __init__(self, brand, color):     \n",
        "              self.brand = brand    \n",
        "              self.color = color   \n",
        "        def drive(self):   \n",
        "              print(f\"{self.color} {self.brand} is driving!\")\n",
        "\n",
        "\n",
        "    \n",
        "3. What is an object in OOP\n",
        "ans:-\n",
        "\n",
        "    An object is an instance of a class.\n",
        "    It represents a real-world entity with its own data.\n",
        "\n",
        "    Example:\n",
        "\n",
        "      car1 = Car(\"Toyota\", \"Red\")\n",
        "\n",
        "      car1.drive()\n",
        "\n",
        "4. What is the difference between abstraction and encapsulation\n",
        "\n",
        "ans:-\n",
        "\n",
        "  | Feature                             | **Abstraction**                                                                                                | **Encapsulation**                                                                                                                                                  |\n",
        "  | ----------------------------------- | -------------------------------------------------------------------------------------------------------------- | ------------------------------------------------------------------------------------------------------------------------------------------------------------------ |\n",
        "  | **Definition**                      | The process of **hiding complex implementation details** and showing only the essential features of an object. | The process of **wrapping data (attributes) and code (methods)** together into a single unit and **restricting direct access** to some of the object’s components. |\n",
        "  | **Focus**                           | Focuses on **what** an object does.                                                                            | Focuses on **how** an object’s data is protected and managed.                                                                                                      |\n",
        "  | **Purpose**                         | To **simplify** the user interface and hide unnecessary details.                                               | To **protect** the data and maintain control over how it’s accessed or modified.                                                                                   |\n",
        "  | **Achieved by**                     | Using **abstract classes**, **interfaces**, or **abstract methods**.                                           | Using **private (`__var`)** and **protected (`_var`)** variables, and **getter/setter methods**.                                                                   |\n",
        "  | **Example in Python**               | ```python                                                                                                      |                                                                                                                                                                    |\n",
        "  | from abc import ABC, abstractmethod |                                                                                                                |                                                                                                                                                                    |\n",
        "  | class Shape(ABC):                   |                                                                                                                |                                                                                                                                                                    |\n",
        "\n",
        "  In short:\n",
        "  - **Abstraction → Hides *details*** (focuses on *concept*).\n",
        "  - **Encapsulation → Hides *data*** (focuses on *protection*).\n",
        "\n",
        "  Both work together to create clean, secure, and maintainable code.\n",
        "\n",
        "\n",
        "5. What are dunder methods in Python\n",
        "ans:\n",
        "\n",
        "    “Dunder” means double underscore (e.g., __init__, __str__).\n",
        "    They are special built-in methods that define how objects behave.\n",
        "\n",
        "    Examples:\n",
        "\n",
        "    __init__ → Constructor\n",
        "\n",
        "    __str__ → String representation\n",
        "\n",
        "    __add__ → Defines behavior for + operator\n",
        "\n",
        "    __len__ → Defines behavior for len(obj)\n",
        "\n",
        "6. Explain the concept of inheritance in OOP\n",
        "\n",
        "ans:\n",
        "\n",
        "  Inheritance allows one class to derive from another and reuse its properties/methods.\n",
        "\n",
        "    Example\n",
        "\n",
        "    class Animal:\n",
        "        def speak(self):\n",
        "            print(\"Some sound\")\n",
        "\n",
        "    class Dog(Animal):\n",
        "        def speak(self):\n",
        "            print(\"Bark!\")\n",
        "\n",
        "7. What is polymorphism in OOP\n",
        "\n",
        "ans:\n",
        "\n",
        "  Polymorphism means “many forms.”\n",
        "  It allows different classes to implement the same method in different ways.\n",
        "\n",
        "  Example:\n",
        "\n",
        "    for animal in [Dog(), Cat()]:\n",
        "      animal.speak()  # Each calls its own version of speak()\n",
        "\n",
        "8. How is encapsulation achieved in Python\n",
        "\n",
        "ans:-\n",
        "  By restricting access to internal variables/methods:\n",
        "\n",
        "  _protected → conventionally protected\n",
        "\n",
        "  __private → name mangled (harder to access externally)\n",
        "\n",
        "    Example:\n",
        "\n",
        "    class Person:\n",
        "        def __init__(self):\n",
        "            self.__salary = 5000\n",
        "\n",
        "9. What is a constructor in Python\n",
        "\n",
        "ans:\n",
        "\n",
        "  A constructor is the __init__() method, called automatically when an object is created.\n",
        "\n",
        "  Example:\n",
        "\n",
        "    class Example:\n",
        "        def __init__(self):\n",
        "            print(\"Constructor called\")\n",
        "\n",
        "\n",
        "10. What are class and static methods in Python\n",
        "\n",
        "ans:\n",
        "  Instance Method: Works on instance data (self)\n",
        "\n",
        "  Class Method: Works on class data (cls)\n",
        "\n",
        "  Static Method: Independent utility method\n",
        "\n",
        "  Example:\n",
        "\n",
        "    class Demo:\n",
        "    count = 0\n",
        "\n",
        "    @classmethod\n",
        "    def show_count(cls):\n",
        "        print(cls.count)\n",
        "\n",
        "    @staticmethod\n",
        "    def greet():\n",
        "        print(\"Hello!\")\n",
        "\n",
        "\n",
        "11. What is method overloading in Python\n",
        "ans:\n",
        "\n",
        "    Python doesn’t support true method overloading (same name, different parameters).\n",
        "\n",
        "    It’s simulated using default arguments or *args.\n",
        "\n",
        "  Example:\n",
        "\n",
        "      def add(a, b=0, c=0):\n",
        "          return a + b + c\n",
        "\n",
        "12. What is method overriding in OOP\n",
        "\n",
        "ans:\n",
        "\n",
        "  Overriding means redefining a parent class method in a child class.\n",
        "\n",
        "    Example:\n",
        "\n",
        "    class Parent:\n",
        "        def show(self): print(\"Parent\")\n",
        "\n",
        "    class Child(Parent):\n",
        "        def show(self): print(\"Child\")\n",
        "\n",
        "13. What is a property decorator in Python\n",
        "\n",
        "ans:\n",
        "\n",
        "  @property is used to make a method act like an attribute.\n",
        "\n",
        "    Example:\n",
        "\n",
        "    class Circle:\n",
        "        def __init__(self, radius):\n",
        "            self._radius = radius\n",
        "\n",
        "        @property\n",
        "        def area(self):\n",
        "            return 3.14 * self._radius**2\n",
        "\n",
        "14. Why is polymorphism important in OOP\n",
        "\n",
        "ans:\n",
        "\n",
        "  It allows code reusability and flexibility — same interface, multiple behaviors.\n",
        "\n",
        "    Example:\n",
        "      len() works for strings, lists, tuples, etc.\n",
        "\n",
        "15. What is an abstract class in Python\n",
        "\n",
        "ans:\n",
        "    A blueprint class that defines abstract methods (no implementation).\n",
        "    Use the abc module.\n",
        "\n",
        "    Example:\n",
        "\n",
        "      from abc import ABC, abstractmethod\n",
        "\n",
        "      class Shape(ABC):\n",
        "          @abstractmethod\n",
        "          def area(self):\n",
        "            pass\n",
        "\n",
        "16. What are the advantages of OOP\n",
        "\n",
        "ans:\n",
        "\n",
        "    1.Modularity\n",
        "\n",
        "    2.Reusability\n",
        "\n",
        "    3.Scalability\n",
        "\n",
        "    4.Maintainability\n",
        "\n",
        "    5.Easier debugging\n",
        "\n",
        "\n",
        "17. What is the difference between a class variable and an instance variable\n",
        "\n",
        "ans:\n",
        "\n",
        "    | Type                  | Defined           | Shared By     | Example     |\n",
        "    | --------------------- | ----------------- | ------------- | ----------- |\n",
        "    | **Class variable**    | Inside class      | All instances | `count`     |\n",
        "    | **Instance variable** | Inside `__init__` | Per object    | `self.name` |\n",
        "\n",
        "\n",
        "18. What is multiple inheritance in Python\n",
        "\n",
        "ans:\n",
        "\n",
        "  When a class inherits from more than one parent class.\n",
        "    \n",
        "    Example:\n",
        "\n",
        "    class A: pass\n",
        "    class B: pass\n",
        "    class C(A, B): pass\n",
        "\n",
        "19. Explain the purpose of ‘’__str__’ and ‘__repr__’ ‘ methods in Python\n",
        "\n",
        "ans:\n",
        "\n",
        "    | Method     | Purpose                        | Example Output                       |\n",
        "    | ---------- | ------------------------------ | ------------------------------------ |\n",
        "    | `__str__`  | User-friendly representation   | `\"Car(Toyota)\"`                      |\n",
        "    | `__repr__` | Developer/debug representation | `\"Car(brand='Toyota', color='Red')\"` |\n",
        "\n",
        "\n",
        "\n",
        "20. What is the significance of the ‘super()’ function in Python\n",
        "\n",
        "ans:\n",
        "\n",
        "  Used to call parent class methods from a child class, especially constructors.\n",
        "\n",
        "    Example:\n",
        "\n",
        "\n",
        "    class Child(Parent):\n",
        "        def __init__(self):\n",
        "            super().__init__()\n",
        "\n",
        "21. What is the significance of the __del__ method in Python\n",
        "\n",
        "ans:\n",
        "\n",
        "    It’s a destructor, called when an object is deleted or garbage-collected.\n",
        "\n",
        "    Example:\n",
        "\n",
        "    def __del__(self):\n",
        "        print(\"Object destroyed\")\n",
        "\n",
        "22. What is the difference between @staticmethod and @classmethod in Python\n",
        "\n",
        "ans:\n",
        "\n",
        "    | Type            | Access                   | Receives | Use Case          |\n",
        "    | --------------- | ------------------------ | -------- | ----------------- |\n",
        "    | `@staticmethod` | No class/instance access | None     | Utility function  |\n",
        "    | `@classmethod`  | Class-level access       | `cls`    | Modify class data |\n",
        "\n",
        "\n",
        "23. How does polymorphism work in Python with inheritance\n",
        "\n",
        "ans:\n",
        "      When child classes override parent methods, and the same method call behaves differently.\n",
        "\n",
        "      Example:\n",
        "      class Animal:\n",
        "          def speak(self): print(\"Sound\")\n",
        "      class Dog(Animal):\n",
        "          def speak(self): print(\"Bark\")\n",
        "\n",
        "24. What is method chaining in Python OOP\n",
        "\n",
        "ans:\n",
        "      Returning self in methods to allow sequential calls.\n",
        "\n",
        "      class Example:\n",
        "          def a(self):\n",
        "              print(\"A\"); return self\n",
        "          def b(self):\n",
        "              print(\"B\"); return self\n",
        "\n",
        "      obj = Example().a().b()\n",
        "\n",
        "\n",
        "25. What is the purpose of the __call__ method in Python?\n",
        "\n",
        "ans:\n",
        "      Allows an object to be called like a function.\n",
        "\n",
        "      Example:\n",
        "      class Adder:\n",
        "          def __call__(self, x, y):\n",
        "              return x + y\n",
        "\n",
        "      add = Adder()\n",
        "      print(add(3, 4))  # behaves like a function"
      ],
      "metadata": {
        "id": "Hf9-O9sf7VhC"
      }
    },
    {
      "cell_type": "markdown",
      "source": [
        "Precticle Assignment"
      ],
      "metadata": {
        "id": "EyV7xU3yKQOv"
      }
    },
    {
      "cell_type": "code",
      "source": [
        "#1. Create a parent class Animal with a method speak() that prints a generic message. Create a child class Dog that overrides the speak() method to print \"Bark!\".\n",
        "\n",
        "class Animal:\n",
        "  def speak(self):\n",
        "    print(\"Method from animal\")\n",
        "\n",
        "class Dog(Animal):\n",
        "  def speak(self):\n",
        "    print(\"Bark!\")\n",
        "\n",
        "d1 = Dog()\n",
        "d1.speak()\n"
      ],
      "metadata": {
        "id": "WKvt9eyjKSK9",
        "colab": {
          "base_uri": "https://localhost:8080/"
        },
        "outputId": "88bf4b11-8d9f-4c9c-b663-9b7d06230703"
      },
      "execution_count": null,
      "outputs": [
        {
          "output_type": "stream",
          "name": "stdout",
          "text": [
            "Bark!\n"
          ]
        }
      ]
    },
    {
      "cell_type": "code",
      "source": [
        "#2. Write a program to create an abstract class Shape with a method area(). Derive classes Circle and Rectangle from it and implement the area() method in both.\n",
        "\n",
        "import abc\n",
        "\n",
        "class Shape:\n",
        "\n",
        "  @abc.abstractclassmethod\n",
        "  def area(self):\n",
        "    pass\n",
        "\n",
        "class circle(Shape):\n",
        "  def area(self):\n",
        "    print(\"Area of circle is r * r\")\n",
        "\n",
        "class Rectangle(Shape):\n",
        "  def area(self):\n",
        "    print(\"Area of Rectangle is length * breadth\")\n",
        "\n"
      ],
      "metadata": {
        "id": "_fn0wIDWKZJy"
      },
      "execution_count": null,
      "outputs": []
    },
    {
      "cell_type": "code",
      "source": [
        "c1 = circle()\n",
        "c1.area()"
      ],
      "metadata": {
        "colab": {
          "base_uri": "https://localhost:8080/"
        },
        "id": "A6jBHp0HgpMk",
        "outputId": "19823fbc-dacb-41f3-a70a-a20bb7d2182b"
      },
      "execution_count": null,
      "outputs": [
        {
          "output_type": "stream",
          "name": "stdout",
          "text": [
            "Area of circle is r * r\n"
          ]
        }
      ]
    },
    {
      "cell_type": "code",
      "source": [
        "r1 = Rectangle()\n",
        "r1.area()"
      ],
      "metadata": {
        "colab": {
          "base_uri": "https://localhost:8080/"
        },
        "id": "TMjqjKS-guYS",
        "outputId": "790d4163-38e0-4a5d-cc5d-efa86175f5be"
      },
      "execution_count": null,
      "outputs": [
        {
          "output_type": "stream",
          "name": "stdout",
          "text": [
            "Area of Rectangle is length * breadth\n"
          ]
        }
      ]
    },
    {
      "cell_type": "code",
      "source": [
        "#3. Implement a multi-level inheritance scenario where a class Vehicle has an attribute type. Derive a class Car and further derive a class ElectricCar that adds a battery attribute.\n",
        "\n",
        "class Vehicle:\n",
        "  def __init__(self,vehicle_type):\n",
        "    self.type = vehicle_type\n",
        "\n",
        "class Car(Vehicle):\n",
        "  def __init__(self,vehicle_type,model):\n",
        "    super().__init__(vehicle_type)\n",
        "    self.model = model\n",
        "\n",
        "class ElectricCar(Car):\n",
        "  def __init__(self,vehicle_type,model,battery):\n",
        "    super().__init__(vehicle_type,model)\n",
        "    self.battery = battery\n",
        "\n",
        "\n",
        "\n",
        "\n"
      ],
      "metadata": {
        "id": "8ZBe3NyHKeuC"
      },
      "execution_count": null,
      "outputs": []
    },
    {
      "cell_type": "code",
      "source": [
        "ec1 = ElectricCar(\"Electric\", \"Tesla Model S\", \"100 kWh\")\n",
        "print(f\"Vehicle Type: {ec1.type}\")\n",
        "print(f\"Car Model: {ec1.model}\")\n",
        "print(f\"Battery Capacity: {ec1.battery}\")"
      ],
      "metadata": {
        "colab": {
          "base_uri": "https://localhost:8080/"
        },
        "id": "AXIJHXSgjAn8",
        "outputId": "f2af6b7a-3b74-452b-a987-115a3e526a23"
      },
      "execution_count": null,
      "outputs": [
        {
          "output_type": "stream",
          "name": "stdout",
          "text": [
            "Vehicle Type: Electric\n",
            "Car Model: Tesla Model S\n",
            "Battery Capacity: 100 kWh\n"
          ]
        }
      ]
    },
    {
      "cell_type": "code",
      "source": [
        "#4. Demonstrate polymorphism by creating a base class Bird with a method fly(). Create two derived classes Sparrow and Penguin that override the fly() method.\n",
        "\n",
        "class Bird:\n",
        "    def fly(self):\n",
        "        print(\"Some birds can fly.\")\n",
        "\n",
        "class Sparrow(Bird):\n",
        "    def fly(self):\n",
        "        print(\"Sparrow is flying high!\")\n",
        "\n",
        "class Penguin(Bird):\n",
        "    def fly(self):\n",
        "        print(\"Penguin cannot fly, but it can swim.\")\n",
        "\n",
        "birds = [Sparrow(), Penguin(), Bird()]\n",
        "\n",
        "for bird in birds:\n",
        "    bird.fly()\n"
      ],
      "metadata": {
        "id": "0omsuezWKoT8",
        "colab": {
          "base_uri": "https://localhost:8080/"
        },
        "outputId": "6aacd80d-a98f-4f4b-e4ef-4a0b525d6950"
      },
      "execution_count": 47,
      "outputs": [
        {
          "output_type": "stream",
          "name": "stdout",
          "text": [
            "Sparrow is flying high!\n",
            "Penguin cannot fly, but it can swim.\n",
            "Some birds can fly.\n"
          ]
        }
      ]
    },
    {
      "cell_type": "code",
      "source": [
        "#5. Write a program to demonstrate encapsulation by creating a class BankAccount with private attributes balance and methods to deposit, withdraw, and check balance.\n",
        "\n",
        "class BankAccount:\n",
        "    def __init__(self, initial_balance=0):\n",
        "        self.__balance = initial_balance\n",
        "\n",
        "    def deposit(self, amount):\n",
        "        if amount > 0:\n",
        "            self.__balance += amount\n",
        "            print(f\"Deposited: ${amount}\")\n",
        "        else:\n",
        "            print(\"Deposit amount must be positive.\")\n",
        "\n",
        "    def withdraw(self, amount):\n",
        "        if 0 < amount <= self.__balance:\n",
        "            self.__balance -= amount\n",
        "            print(f\"Withdrew: ${amount}\")\n",
        "        else:\n",
        "            print(\"Insufficient balance or invalid amount.\")\n",
        "\n",
        "    def get_balance(self):\n",
        "        return self.__balance\n",
        "\n",
        "\n",
        "account = BankAccount(1000)\n",
        "account.deposit(500)\n",
        "account.withdraw(200)\n",
        "print(\"Current Balance:\", account.get_balance())\n",
        "\n"
      ],
      "metadata": {
        "id": "aCAiN_fDKr8j",
        "colab": {
          "base_uri": "https://localhost:8080/"
        },
        "outputId": "f813d0f9-9f3c-4dfa-9e39-ef5a09496ae3"
      },
      "execution_count": 46,
      "outputs": [
        {
          "output_type": "stream",
          "name": "stdout",
          "text": [
            "Deposited: $500\n",
            "Withdrew: $200\n",
            "Current Balance: 1300\n"
          ]
        }
      ]
    },
    {
      "cell_type": "code",
      "source": [
        "#6. Demonstrate runtime polymorphism using a method play() in a base class Instrument. Derive classes Guitar and Piano that implement their own version of play().\n",
        "\n",
        "class Instrument:\n",
        "    def play(self):\n",
        "        print(\"Playing an instrument\")\n",
        "\n",
        "class Guitar(Instrument):\n",
        "    def play(self):\n",
        "        print(\"Strumming the guitar\")\n",
        "\n",
        "class Piano(Instrument):\n",
        "    def play(self):\n",
        "        print(\"Playing the piano keys\")\n",
        "\n",
        "instruments = [Guitar(), Piano(), Instrument()]\n",
        "\n",
        "for instrument in instruments:\n",
        "    instrument.play()\n"
      ],
      "metadata": {
        "id": "qY3SiJMEKwEb"
      },
      "execution_count": null,
      "outputs": []
    },
    {
      "cell_type": "code",
      "source": [
        "#7. Create a class MathOperations with a class method add_numbers() to add two numbers and a static method subtract_numbers() to subtract two numbers.\n",
        "\n",
        "class MathOperations:\n",
        "    @classmethod\n",
        "    def add_numbers(cls, a, b):\n",
        "        return a + b\n",
        "\n",
        "    @staticmethod\n",
        "    def subtract_numbers(a, b):\n",
        "        return a - b\n",
        "\n",
        "\n",
        "print(\"Addition:\", MathOperations.add_numbers(10, 5))\n",
        "print(\"Subtraction:\", MathOperations.subtract_numbers(10, 5))\n"
      ],
      "metadata": {
        "id": "ILbPu_ChKzH-",
        "colab": {
          "base_uri": "https://localhost:8080/"
        },
        "outputId": "afed4c31-739b-4f76-e134-2e6693adecc3"
      },
      "execution_count": 44,
      "outputs": [
        {
          "output_type": "stream",
          "name": "stdout",
          "text": [
            "Addition: 15\n",
            "Subtraction: 5\n"
          ]
        }
      ]
    },
    {
      "cell_type": "code",
      "source": [
        "#8. Implement a class Person with a class method to count the total number of persons created\n",
        "\n",
        "class Person:\n",
        "    count = 0\n",
        "\n",
        "    def __init__(self, name):\n",
        "        self.name = name\n",
        "        Person.count += 1\n",
        "\n",
        "    @classmethod\n",
        "    def total_persons(cls):\n",
        "        return cls.count\n",
        "\n",
        "# Example usage\n",
        "p1 = Person(\"vishakha\")\n",
        "p2 = Person(\"mayank\")\n",
        "p3 = Person(\"twinkle\")\n",
        "\n",
        "print(f\"Total persons created: {Person.total_persons()}\")\n"
      ],
      "metadata": {
        "id": "eNVDUbqSK2T1",
        "colab": {
          "base_uri": "https://localhost:8080/"
        },
        "outputId": "8df20779-d20c-437f-94ef-a0f143a17898"
      },
      "execution_count": 45,
      "outputs": [
        {
          "output_type": "stream",
          "name": "stdout",
          "text": [
            "Total persons created: 3\n"
          ]
        }
      ]
    },
    {
      "cell_type": "code",
      "source": [
        "#9. Write a class Fraction with attributes numerator and denominator. Override the str method to display the fraction as \"numerator/denominator\".\n",
        "\n",
        "class Fraction:\n",
        "    def __init__(self, numerator, denominator):\n",
        "        self.numerator = numerator\n",
        "        self.denominator = denominator\n",
        "\n",
        "    def __str__(self):\n",
        "        return f\"{self.numerator}/{self.denominator}\"\n",
        "\n",
        "frac1 = Fraction(3, 4)\n",
        "frac2 = Fraction(5, 6)\n",
        "\n",
        "print(frac1)\n",
        "print(frac2)\n"
      ],
      "metadata": {
        "id": "FsNkbthuK99U",
        "colab": {
          "base_uri": "https://localhost:8080/"
        },
        "outputId": "7fed75ee-d8a9-45bb-8860-901b3fc83cf9"
      },
      "execution_count": null,
      "outputs": [
        {
          "output_type": "stream",
          "name": "stdout",
          "text": [
            "3/4\n",
            "5/6\n"
          ]
        }
      ]
    },
    {
      "cell_type": "code",
      "source": [
        "#10. Demonstrate operator overloading by creating a class Vector and overriding the add method to add two vectors.\n",
        "\n",
        "class Vector:\n",
        "    def __init__(self, x, y):\n",
        "        self.x = x\n",
        "        self.y = y\n",
        "\n",
        "    def __add__(self, other):\n",
        "        if isinstance(other, Vector):\n",
        "            return Vector(self.x + other.x, self.y + other.y)\n",
        "        else:\n",
        "            raise TypeError(\"Operand must be a Vector\")\n",
        "\n",
        "    def __str__(self):\n",
        "        return f\"({self.x}, {self.y})\"\n",
        "\n",
        "v1 = Vector(3, 4)\n",
        "v2 = Vector(5, 7)\n",
        "\n",
        "v3 = v1 + v2\n",
        "\n",
        "print(\"v1:\", v1)\n",
        "print(\"v2:\", v2)\n",
        "print(\"v1 + v2 =\", v3)\n"
      ],
      "metadata": {
        "id": "GrCNpHETLCpU",
        "colab": {
          "base_uri": "https://localhost:8080/"
        },
        "outputId": "f0d3b357-8f68-416c-cc63-21a4a0b45d21"
      },
      "execution_count": 48,
      "outputs": [
        {
          "output_type": "stream",
          "name": "stdout",
          "text": [
            "v1: (3, 4)\n",
            "v2: (5, 7)\n",
            "v1 + v2 = (8, 11)\n"
          ]
        }
      ]
    },
    {
      "cell_type": "code",
      "source": [
        "#11. Create a class Person with attributes name and age. Add a method greet() that prints \"Hello, my name is {name} and I am {age} years old.\"\n",
        "\n",
        "class Person:\n",
        "  def __init__(self,name,age):\n",
        "    self.name = name\n",
        "    self.age = age\n",
        "\n",
        "  def greet(self):\n",
        "    return f\"Hello, my name is '{self.name}' and I am {self.age} years old.\"\n",
        "\n",
        "per = Person(\"vishakha\",23)\n",
        "print(per.greet())"
      ],
      "metadata": {
        "id": "A2imeh-ILSyi",
        "colab": {
          "base_uri": "https://localhost:8080/"
        },
        "outputId": "88306282-3888-4777-ba96-b8e44c2ce208"
      },
      "execution_count": null,
      "outputs": [
        {
          "output_type": "stream",
          "name": "stdout",
          "text": [
            "Hello, my name is vishakha and I am 23 years old.\n"
          ]
        }
      ]
    },
    {
      "cell_type": "code",
      "source": [
        "#12.Implement a class Student with attributes name and grades. Create a method average_grade() to compute the average of the grades.\n",
        "\n",
        "class student:\n",
        "\n",
        "  def __init__(self,name,grade):\n",
        "    self.name = name\n",
        "    self.grade = grade\n",
        "\n",
        "  def average_grade(self):\n",
        "    if len(self.grade) == 0:\n",
        "      return 0\n",
        "    else:\n",
        "      return sum(self.grade) / len(self.grade)\n",
        "\n",
        "\n",
        "stud =  student(\"Vishakha\", [85, 90, 95])\n",
        "average = stud.average_grade()\n",
        "print(f\"average grade of {stud.name} is {average}\")\n"
      ],
      "metadata": {
        "id": "fVT9DEHqLUcj",
        "colab": {
          "base_uri": "https://localhost:8080/"
        },
        "outputId": "a4c277f5-2388-4e91-d7a0-1ec92b7b96f3"
      },
      "execution_count": null,
      "outputs": [
        {
          "output_type": "stream",
          "name": "stdout",
          "text": [
            "average grade of Vishakha is 90.0\n"
          ]
        }
      ]
    },
    {
      "cell_type": "code",
      "source": [
        "#13. Create a class Rectangle with methods set_dimensions() to set the dimensions and area() to calculate the area.\n",
        "class Rectangle:\n",
        "    def __init__(self, length=0, width=0):\n",
        "        self.length = length\n",
        "        self.width = width\n",
        "\n",
        "    def set_dimensions(self, length, width):\n",
        "        self.length = length\n",
        "        self.width = width\n",
        "\n",
        "    def area(self):\n",
        "        return self.length * self.width\n",
        "\n",
        "rect = Rectangle()\n",
        "rect.set_dimensions(5, 3)\n",
        "\n",
        "print(f\"Length: {rect.length}, Width: {rect.width}\")\n",
        "print(f\"Area of rectangle: {rect.area()}\")\n"
      ],
      "metadata": {
        "id": "6eBVE18gLbcT",
        "colab": {
          "base_uri": "https://localhost:8080/"
        },
        "outputId": "7b781bd7-42c7-49d0-e4b9-c5c54e6ba8f1"
      },
      "execution_count": 49,
      "outputs": [
        {
          "output_type": "stream",
          "name": "stdout",
          "text": [
            "Length: 5, Width: 3\n",
            "Area of rectangle: 15\n"
          ]
        }
      ]
    },
    {
      "cell_type": "code",
      "source": [
        "#14. . Create a class Employee with a method calculate_salary() that computes the salary based on hours worked and hourly rate. Create a derived class Manager that adds a bonus to the salary.\n",
        "\n",
        "class Employee:\n",
        "  def __init__(self,name,hours_worked,hourly_rate):\n",
        "    self.name= name\n",
        "    self.hours_worked = hours_worked\n",
        "    self.hourly_rate = hourly_rate\n",
        "\n",
        "  def calculate_salary(self):\n",
        "    return self.hours_worked * self.hourly_rate\n",
        "\n",
        "class Manager(Employee):\n",
        "  def __init__(self,name,hours_worked,hourly_rate,bonus):\n",
        "    super().__init__(name,hours_worked,hourly_rate)\n",
        "    self.bonus = bonus\n",
        "\n",
        "  def calculate_salary(self):\n",
        "    basic_salary = super().calculate_salary()\n",
        "    return basic_salary + self.bonus\n",
        "\n",
        "\n",
        "emp = Employee(\"Vishakha\", 40, 20)\n",
        "mgr = Manager(\"Mayank\", 40, 25, 500)\n",
        "\n",
        "\n",
        "print(f\"{emp.name}'s salary is = {emp.calculate_salary()}\")\n",
        "print(f\"{mgr.name}'s salary is = {mgr.calculate_salary()}\")\n",
        "\n",
        "\n",
        "\n"
      ],
      "metadata": {
        "id": "s4Q1O-qPLh2n",
        "colab": {
          "base_uri": "https://localhost:8080/"
        },
        "outputId": "a485d3fa-9ca0-4a2c-9785-118a25cba622"
      },
      "execution_count": null,
      "outputs": [
        {
          "output_type": "stream",
          "name": "stdout",
          "text": [
            "Vishakha's salary is = 800\n",
            "Mayank's salary is = 1500\n"
          ]
        }
      ]
    },
    {
      "cell_type": "code",
      "source": [
        "#15. Create a class Product with attributes name, price, and quantity. Implement a method total_price() that calculates the total price of the product.\n",
        "\n",
        "class Product:\n",
        "\n",
        "  def __init__(self,name,price,quantity):\n",
        "    self.name = name\n",
        "    self.price = price\n",
        "    self.quantity = quantity\n",
        "\n",
        "  def total_price(self):\n",
        "    return self.quantity * self.price\n",
        "\n",
        "p1 = Product(\"Laptop\",67000,3)\n",
        "print(f\"product name = {p1.name}\")\n",
        "print(f\"product price = {p1.price}\")\n",
        "print(f\"product quantity = {p1.quantity}\")\n",
        "print(f\"product total price = {p1.total_price()}\")"
      ],
      "metadata": {
        "id": "2se5b_qBLla4",
        "colab": {
          "base_uri": "https://localhost:8080/"
        },
        "outputId": "1cd400ff-786b-40e9-99c6-099ba0421117"
      },
      "execution_count": null,
      "outputs": [
        {
          "output_type": "stream",
          "name": "stdout",
          "text": [
            "product name = Laptop\n",
            "product price = 67000\n",
            "product quantity = 3\n",
            "product total price = 201000\n"
          ]
        }
      ]
    },
    {
      "cell_type": "code",
      "source": [
        "#16. Create a class Animal with an abstract method sound(). Create two derived classes Cow and Sheep that implement the sound() method.\n",
        "\n",
        "import abc\n",
        "\n",
        "class Animal:\n",
        "  @abc.abstractclassmethod\n",
        "  def sound(self):\n",
        "    pass\n",
        "\n",
        "\n",
        "class Cow(Animal):\n",
        "  def sound(self):\n",
        "    print(\"cow sound is Mooh!!\")\n",
        "\n",
        "class Sheep(Animal):\n",
        "  def sound(self):\n",
        "    print(\"Sheep sound is Baa!! \")\n",
        "\n",
        "cow1 = Cow()\n",
        "cow1.sound()\n",
        "\n",
        "sheep1 = Sheep()\n",
        "sheep1.sound()\n"
      ],
      "metadata": {
        "id": "D0fuOYe6NJc2",
        "colab": {
          "base_uri": "https://localhost:8080/"
        },
        "outputId": "bde83c49-db1f-4a16-8c8a-5fab20729e05"
      },
      "execution_count": null,
      "outputs": [
        {
          "output_type": "stream",
          "name": "stdout",
          "text": [
            "cow sound is Mooh!!\n",
            "Sheep sound is Baa!! \n"
          ]
        }
      ]
    },
    {
      "cell_type": "code",
      "source": [
        "#17. Create a class Book with attributes title, author, and year_published. Add a method get_book_info() that returns a formatted string with the book's details.\n",
        "\n",
        "class Book:\n",
        "  def __init__(self,title, author,  year_published):\n",
        "    self.title = title\n",
        "    self.author = author\n",
        "    self.year_published = year_published\n",
        "\n",
        "  def get_book_info(self):\n",
        "    return f\"Book title is '{self.title}'. Its Author is '{self.author}' and book published in {self.year_published}.\"\n",
        "\n",
        "\n",
        "b1 = Book(\"Python Crash Course \", \"Eric Matthes\", 2023)\n",
        "print(b1.get_book_info())\n",
        "\n"
      ],
      "metadata": {
        "id": "HA6dUr9VNOl5",
        "colab": {
          "base_uri": "https://localhost:8080/"
        },
        "outputId": "80592daa-1407-4bb0-b5c2-165b5ef274ca"
      },
      "execution_count": null,
      "outputs": [
        {
          "output_type": "stream",
          "name": "stdout",
          "text": [
            "Book title is 'Python Crash Course '. Its Author is 'Eric Matthes' and book published in 2023.\n"
          ]
        }
      ]
    },
    {
      "cell_type": "code",
      "source": [
        "#18. Create a class House with attributes address and price. Create a derived class Mansion that adds an attribute number_of_rooms.\n",
        "\n",
        "class House:\n",
        "  def __init__(self,address,price):\n",
        "    self.address = address\n",
        "    self.price = price\n",
        "\n",
        "class Mansion(House):\n",
        "  def __init__(self,address,price,number_of_rooms):\n",
        "    super().__init__(address,price)\n",
        "    self.number_of_rooms = number_of_rooms\n",
        "\n",
        "h1 = House(\"123 Main St\", 500000)\n",
        "m1 = Mansion(\"456 Luxury Ave\", 2000000, 10)\n",
        "\n",
        "print(f\"House Address: {h1.address}, Price: ${h1.price}\")\n",
        "print(f\"Mansion Address: {m1.address}, Price: ${m1.price}, Rooms: {m1.number_of_rooms}\")"
      ],
      "metadata": {
        "id": "kx_yOV_sNSHV",
        "colab": {
          "base_uri": "https://localhost:8080/"
        },
        "outputId": "330c38b1-4099-4de9-c731-bd583c926ffa"
      },
      "execution_count": null,
      "outputs": [
        {
          "output_type": "stream",
          "name": "stdout",
          "text": [
            "House Address: 123 Main St, Price: $500000\n",
            "Mansion Address: 456 Luxury Ave, Price: $2000000, Rooms: 10\n"
          ]
        }
      ]
    },
    {
      "cell_type": "code",
      "source": [],
      "metadata": {
        "id": "aedTuc4BrxYl"
      },
      "execution_count": null,
      "outputs": []
    }
  ]
}