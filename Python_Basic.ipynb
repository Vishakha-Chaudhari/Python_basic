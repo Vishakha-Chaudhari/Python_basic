{
  "cells": [
    {
      "cell_type": "markdown",
      "metadata": {
        "id": "FOTqkbyUlw91"
      },
      "source": [
        "Python Basic\n",
        "\n",
        "Theory Assignment\n",
        "\n",
        "Q1. What is Python, and why is it popular\n",
        "ANS: Python is a high-level, general-purpose, interpreted, and object-oriented programming language. It is designed to be easy to learn and readable,   \n",
        "      making it a great choice for beginners as well as professionals.\n",
        "\n",
        "    Python is popular because of:\n",
        "\n",
        "    1. Simple to Learn and Use: Its syntax is clean and similar to English, making coding easier.\n",
        "\n",
        "    2. Supportive Community: A large community provides tutorials, forums, and libraries.\n",
        "\n",
        "    3. Wide Range of Libraries and Frameworks: Python has libraries for web development, data analysis, machine learning, automation, and more.\n",
        "\n",
        "    4. Efficient and Reliable: Python allows fast development and is widely used in industry.\n",
        "\n",
        "    5. Flexible and Versatile: Can be used for various applications, including web apps, data science, AI, automation, and more.\n",
        "\n",
        "Q2. What is an interpreter in Python\n",
        "ANS- A Python interpreter is a program that reads and executes Python code directly. Unlike a compiler, which translates the entire program into machine \n",
        "     code before execution, an interpreter processes and executes code line by line at runtime.\n",
        "\n",
        "    In simple words:\n",
        "    The Python interpreter reads your Python instructions, translates them into machine-readable form line by line, and executes them, so the computer can understand and run your code.\n",
        "\n",
        "    Responsibilities of the Python Interpreter\n",
        "    1. Checking your code for errors (syntax and semantic).\n",
        "    2. Converting Python code into bytecode, an intermediate form.\n",
        "    3. Sending the bytecode to the Python Virtual Machine (PVM) for execution.\n",
        "\n",
        "    Working of the Python Interpreter\n",
        "\n",
        "    1. Python Source Code (.py file) :\n",
        "        You write your Python program in a .py file.\n",
        "    2. Parser and Abstract Syntax Tree (AST) :\n",
        "        The interpreter checks the code for syntax errors.Converts it into an AST, which represents the structure of the program.\n",
        "    3. Bytecode (.pyc file in __pycache__) :\n",
        "        The AST is compiled into bytecode, a low-level instruction set.Bytecode may be saved in the __pycache__ folder for faster reuse.\n",
        "    4. Python Virtual Machine (PVM) :\n",
        "        The PVM executes the bytecode line by line.Translates bytecode into machine instructions the computer can run.\n",
        "\n",
        "Q3. What are pre-defined keywords in Python\n",
        "ANS - Keywords in Python are special reserved words that are part of the Python language. They have specific meanings and purposes, and they define the \n",
        "      rules and structure of Python programs.\n",
        "\n",
        "    Important: \n",
        "        we cannot use keywords as names for variables, functions, classes, or any other identifiers because they are reserved.\n",
        "\n",
        "    Examples of Python keywords:\n",
        "    if, else, for, while, def, class, import, return, try, except, etc.\n",
        "\n",
        "Q4. Can keywords be used as variable names\n\n",
        "ans- NO , we can not use python keyword as variable name , \n",
        "     if we use keyword as variable name then it give us **\"syntax Error \"**.\n",
        "\n",
        "     eg. if = 123 # genereate syntax error\n",
        "    \n",
        "     correct use :\n",
        "     age = 12\n",
        "\n",
        "Q5. What is mutability in Python\n\n",
        "ans : Mutability refers to the ability of an object to change or modify its value after it has been created, without creating a new object.\n",
        "      Mutable objects can have their content changed.\n",
        "      Immutable objects cannot be changed once created (e.g., strings, tuples, integers).\n",
        "      Examples of mutable objects:\n",
        "      1. list\n",
        "      2. dictionary\n",
        "      3. set\n\n",
        "      Example with a list\n",
        "        my_list = [1, 2, 3, 4,5]\n\n",
        "        # Change the value at index 2\n\n",
        "        my_list[2] = 10\n\n",
        "        print(my_list)\n\n",
        "    output :\n",
        "       [1,2,10,4,5]\n",
        "\n",
        "Q6. Why are lists mutable, but tuples are immutable\n\n",
        "ans : **List are mutable:**\n",
        "        Lists are designed to be flexible containers that can hold items and allow modifications such as:\n",
        "        1.  Adding elements (append, extend)\n",
        "        2.  Removing elements (pop, remove)\n",
        "        3.  Changing elements at a specific index (my_list[2] = 10)\n",
        "\n",
        "        Internally, Python implements lists as dynamic arrays, so their size and content can change without creating a new object.\n",
        "        This mutability makes lists ideal for situations where the data needs to change frequently.\n",
        "\n",
        "**Tuples Are Immutable:** \n",
        "    Tuples are designed to be fixed, read-only sequences.\n",
        "    Once a tuple is created: we cannot change, add, or remove elements.\n",
        "    The tuple’s memory layout is fixed.\n",
        "\n",
        "    Reasons for immutability:\n",
        "    1. Safety: Tuples are often used as keys in dictionaries. Mutable objects can’t be dictionary keys because their hash can change.\n",
        "    2. Performance: Immutable objects are faster to access because Python doesn’t need to manage dynamic resizing.\n",
        "    3. Predictability: Their contents won’t change unexpectedly, which makes code safer and easier to debug.\n",
        "\n",
        "    Example\n",
        "    # Mutable list\n",
        "    my_list = [1, 2, 3]\n",
        "    my_list[1] = 20   # Works\n",
        "    print(my_list)    # [1, 20, 3]\n",
        "\n",
        "    # Immutable tuple\n",
        "    my_tuple = (1, 2, 3)\n",
        "    my_tuple[1] = 20  # TypeError: 'tuple' object does not support item assignment\n",
        "\n",
        "Q7. What is the difference between “==” and “is” operators in Python\n",
        "ans : 1. == operator :\n",
        "        \"==\" operator is used to  Compares the values of two objects.in another word to check whether two objects contain same data (value), not match  memory addresses.\n",
        "        Returns True if the values are equal, regardless of whether they are the same object in memory.\n",
        "\n",
        "        Example:\n",
        "\n",
        "        a = [1, 2, 3]\n",
        "        b = [1, 2, 3]\n",
        "\n",
        "        print(a == b)  # True, because the lists have the same values\n",
        "\n",
        "        2. is operator :\n",
        "            The is operator is used when you want to check whether two variables refer to exact same object in memory. It does not care about values. \n",
        "            in another word it  Compares the identity of two objects. Returns True only if both variables point to the same object in memory.\n",
        "\n",
        "            Example:\n",
        "\n",
        "            a = [1, 2, 3]\n",
        "            b = [1, 2, 3]\n",
        "\n",
        "            print(a is b)  # False, because a and b are two different objects in memory\n",
        "\n",
        "Q8. What are logical operators in Python\n",
        "ans : python logic opertors are used to combine conditional statements and return a Boolean result (True or False). They are essential when you want to     \n",
        "      check multiple conditions at once.\n",
        "      There are Three Logical Operators in Python :\n",
        "\n",
        "        1. and :\n",
        "            Returns True only if both conditions are True.\n",
        "            Example:\n",
        "                age = 20\n",
        "                has_id = True\n",
        "                print(age >= 18 and has_id)  # True, because both conditions are True\n",
        "\n",
        "        2. or:\n",
        "            Returns True if at least one condition is True.\n",
        "            Example:\n",
        "                age = 16\n",
        "                has_id = True\n",
        "                print(age >= 18 or has_id)  # True, because one condition is True\n",
        "\n",
        "        3. not:\n",
        "            Returns the opposite Boolean value of the condition.\n",
        "\n",
        "            Example:\n",
        "                is_citizen = False\n",
        "                print(not is_citizen)  # True, because not False = True\n",
        "\n",
        "Q9. What is type casting in Python\n",
        "ANS - Type casting in Python is the process of converting a variable from one data type to another.Ex: WE want to change the data type of a variable from   \n",
        "      an integer 2 to a float 2.0. This is a case where you'd use type casting.\n",
        "\n",
        "      There are two type of casting \n",
        "      1. implicit type casting :\n",
        "            Occurs automatically when the system handles the conversion without the programmer’s intervention.Automatic type conversion is called type coercion.\n",
        "            example :\n",
        "                # Implicit casting (automatic) example in Python\n",
        "                integer_number = 10\n",
        "                float_number = 5.5\n",
        "\n",
        "                result = integer_number + float_number\n",
        "                # The integer '10' is implicitly cast to a float before the addition\n",
        "\n",
        "                print(result)  \n",
        "\n",
        "                # Output: 15.5\n",
        "      2. Explicit Type casting :\n",
        "            Explicit type conversion done by the programmer is called type casting.Involves converting a “larger” data type to a “smaller” one. Example: Converting a float to an integer or a string to an integer\n",
        "\n",
        "            Common Type Casting Functions\n",
        "                Function\tConverts to\n",
        "                int()\tInteger\n",
        "                float()\tFloat\n",
        "                str()\tString\n",
        "                bool()\tBoolean\n",
        "\n",
        "            Example: \n",
        "                float_number = 10.5\n",
        "                int_number = int(float_number) # Explicit casting from float to int\n",
        "                str_number = str(float_number)\n",
        "                print(int_number)\n",
        "                print(str_number)\n",
        "                type(str_number)\n",
        "\n",
        "                # O/t-\n",
        "                10\n",
        "                10.5\n",
        "                str\n",
        "\n",
        "\n",
        "Q10. What is the difference between implicit and explicit type casting\n",
        "ans: 1. implicit  type casting:\n",
        "    Definition:\n",
        "        1.  Implicit type casting (also called type conversion) happens automatically by Python.\n",
        "        2.  Python converts one data type to another without programmer intervention to avoid errors during operations.\n",
        "\n",
        "    Key Points:\n",
        "        1. Done automatically.\n",
        "        2. Usually occurs when mixing different numeric types (int, float).\n",
        "        3. No data loss usually occurs.\n",
        "    \n",
        "    2. Explicit Type Casting (Type Conversion)\n",
        "        Definition:\n",
        "        1. Explicit type casting is done manually by the programmer using built-in functions like int(), float(), str(), or bool().\n",
        "        2. we are explicitly telling Python to convert a value to another type.\n",
        "        Key Points:\n",
        "        1. Programmer controls the conversion.\n",
        "        2. May cause data loss if not careful (e.g., converting float to int truncates decimal part).\n",
        "\n",
        "        | Feature      | Implicit Casting      | Explicit Casting                            |\n",
        "        | ------------ | --------------------- | ------------------------------------------- |\n",
        "        | Who converts | Python automatically  | Programmer manually                         |\n",
        "        | How          | Usually numeric types | Using `int()`, `float()`, `str()`, `bool()` |\n",
        "        | Example      | `5 + 2.5 → 7.5`       | `int(\"10\") → 10`                            |\n",
        "        | Risk         | Minimal               | May lose data (e.g., float → int)           |\n",
        "\n",
        "Q11. What is the purpose of conditional statements in Python\n",
        "ans : **Conditional statements** in Python are used to control the flow of a program based on certain conditions. They allow the program to make decisions and execute different blocks of code depending on whether a condition is True or False.\n",
        "    **Key Purposes**:\n",
        "    1. Decision Making:\n",
        "        Execute specific code only if a certain condition is met.\n",
        "        Example: Allow login only if the username and password are correct.\n",
        "\n",
        "    2.  Control Program Flow:\n",
        "        Help the program decide which path to take among multiple options.\n",
        "\n",
        "    3.  Handle Different Scenarios:\n",
        "        Perform different actions for different inputs or conditions.\n",
        "\n",
        "    Python Conditional Statements   \n",
        "    1. if :  Execute code if condition is True.\n",
        "    2. elif : Check additional conditions if the previous if was False.\n",
        "    3. else : Execute code if all conditions are False.\n",
        "\n",
        "    Example\n",
        "    age = 20\n",
        "    if age >= 18:\n",
        "        print(\"You are eligible to vote.\")\n",
        "    else:\n",
        "        print(\"You are not eligible to vote.\")\n",
        "\n",
        "    Output:\n",
        "    You are eligible to vote.\n",
        "\n",
        "Q12. How does the elif statement work\n",
        "ans : The elif statement in Python stands for “else if”. It allows you to check multiple conditions sequentially after an initial if statement.\n",
        "      **How it Works**\n",
        "        1. Python evaluates the if condition first.\n",
        "        2. If the if condition is True, Python executes the corresponding block and skips the rest (elif and else).\n",
        "        3. If the if condition is False, Python checks the elif condition(s)` in order.\n",
        "        4. If an elif condition is True, its block is executed, and the rest are skipped.\n",
        "        5. If none of the conditions are True, the optional else block is executed.\n",
        "\n",
        "        Syntax\n",
        "        if condition1:\n",
        "            # Execute this block if condition1 is True\n",
        "        elif condition2:\n",
        "            # Execute this block if condition2 is True\n",
        "        elif condition3:\n",
        "            # Execute this block if condition3 is True\n",
        "        else:\n",
        "            # Execute this block if all above conditions are False\n",
        "\n",
        "        Example\n",
        "        age = 17\n",
        "\n",
        "        if age >= 21:\n",
        "            print(\"Eligible for voting as an adult male\")\n",
        "        elif age >= 18:\n",
        "            print(\"Eligible for voting as an adult female\")\n",
        "        else:\n",
        "            print(\"Not eligible to vote\")\n",
        "\n",
        "        Output:\n",
        "            Not eligible to vote\n",
        "\n",
        "Q13. What is the difference between for and while loops\n",
        "ans : DIfference between for and while loop\n",
        "| Feature  | `for` loop                                                          | `while` loop                                                           |\n",
        "| -------- | ------------------------------------------------------------------- | ---------------------------------------------------------------------- |\n",
        "|  Purpose | Iterates over a **sequence** (like a list, tuple, string, or range) | Repeats a block of code **while a condition is True**                  |\n",
        "| Condition| Iteration is based on **sequence length or range**                  | Iteration is based on a **boolean condition**                          |\n",
        "| Use case | When the **number of iterations is known**                          | When the **number of iterations is unknown** or depends on a condition |\n",
        "| Syntax   | `for variable in sequence:`                                         | `while condition:`                                                     |\n",
        "| Example  | `for i in range(5): print(i)`                                       | `while i < 5: print(i); i += 1`                                        |\n",
        "\n",
        "Example\n",
        "\n",
        "    For loop (known iterations):\n",
        "    for i in range(5):\n",
        "        print(i)\n",
        "\n",
        "\n",
        "    While loop (condition-based):\n",
        "\n",
        "    i = 0\n",
        "    while i < 5:\n",
        "        print(i)\n",
        "        i += 1\n",
        "\n",
        "Q14. Describe a scenario where a while loop is more suitable than a for loop\n",
        "ans: Scenario:\n",
        "        When the number of repetitions is **not known in advance** and **depends on a condition during runtime** .\n",
        "\n",
        "    Example: Asking a user to enter a correct password\n",
        "\n",
        "    password = \"python123\"\n",
        "    user_input = \"\"\n",
        "\n",
        "    while user_input != password:\n",
        "        user_input = input(\"Enter your password: \")\n",
        "        if user_input != password:\n",
        "            print(\"Incorrect password. Try again.\")\n",
        "\n",
        "    print(\"Access granted!\")\n",
        "\n",
        "    Why while is better here:\n",
        "    1.  We don’t know how many attempts the user will take.\n",
        "    2. A for loop with a fixed number of iterations would not handle this situation naturally.\n"
      ]
    },
    {
      "cell_type": "markdown",
      "metadata": {
        "id": "ZJXvYmhin4yA"
      },
      "source": [
        "Practical Assignment"
      ]
    },
    {
      "cell_type": "code",
      "execution_count": null,
      "metadata": {
        "colab": {
          "base_uri": "https://localhost:8080/"
        },
        "id": "sEh3hDRCn_QB",
        "outputId": "38dc6998-e887-4721-e3af-ded1ee7e94b0"
      },
      "outputs": [
        {
          "name": "stdout",
          "output_type": "stream",
          "text": [
            "Hello, World!\n"
          ]
        }
      ],
      "source": [
        "#Q1.  Write a Python program to print \"Hello, World!\n",
        "\n",
        "print(\"Hello, World!\")"
      ]
    },
    {
      "cell_type": "code",
      "execution_count": 2,
      "metadata": {
        "colab": {
          "base_uri": "https://localhost:8080/"
        },
        "id": "oLsEgu7BoJ69",
        "outputId": "f1d6dc7f-3422-4c8a-a251-f815455fcb01"
      },
      "outputs": [
        {
          "name": "stdout",
          "output_type": "stream",
          "text": [
            "My Name is : vishakha\n",
            "My age is : 23\n"
          ]
        }
      ],
      "source": [
        "#Q2. Write a Python program that displays your name and age\n",
        "\n",
        "name = \"vishakha\"\n",
        "age= 23\n",
        "\n",
        "print(\"My Name is :\", name)\n",
        "print(\"My age is :\", age)"
      ]
    },
    {
      "cell_type": "code",
      "execution_count": 51,
      "metadata": {
        "colab": {
          "base_uri": "https://localhost:8080/"
        },
        "id": "zjp-SLnQoahB",
        "outputId": "070abc86-cc8c-4923-e1ca-4446e5cde142"
      },
      "outputs": [
        {
          "name": "stdout",
          "output_type": "stream",
          "text": [
            "Pre-defined keywords list:\n",
            "\n",
            "False\n",
            "None\n",
            "True\n",
            "and\n",
            "as\n",
            "assert\n",
            "async\n",
            "await\n",
            "break\n",
            "class\n",
            "continue\n",
            "def\n",
            "del\n",
            "elif\n",
            "else\n",
            "except\n",
            "finally\n",
            "for\n",
            "from\n",
            "global\n",
            "if\n",
            "import\n",
            "in\n",
            "is\n",
            "lambda\n",
            "nonlocal\n",
            "not\n",
            "or\n",
            "pass\n",
            "raise\n",
            "return\n",
            "try\n",
            "while\n",
            "with\n",
            "yield\n"
          ]
        }
      ],
      "source": [
        "#Q3. Write code to print all the pre-defined keywords in Python using the keyword library\n",
        "\n",
        "import keyword\n",
        "\n",
        "print(\"Pre-defined keywords list:\\n\")\n",
        "for i in keyword.kwlist:\n",
        "  print(i)"
      ]
    },
    {
      "cell_type": "code",
      "execution_count": 55,
      "metadata": {
        "colab": {
          "base_uri": "https://localhost:8080/"
        },
        "id": "6z4pH3yCoruo",
        "outputId": "5047b1ef-62e4-416a-da4c-3f561ccf58af"
      },
      "outputs": [
        {
          "name": "stdout",
          "output_type": "stream",
          "text": [
            "Enter a word to check it is Python keyword:FOR\n",
            "'FOR' is NOT a Python keyword.\n"
          ]
        }
      ],
      "source": [
        "#Q4. Write a program that checks if a given word is a Python keyword.\n",
        "\n",
        "import keyword\n",
        "\n",
        "word = input(\"Enter a word to check it is Python keyword:\")\n",
        "\n",
        "if keyword.iskeyword(word.lower()):\n",
        "    print(f\"'{word}' is a Python keyword.\")\n",
        "else:\n",
        "    print(f\"'{word}' is NOT a Python keyword.\")"
      ]
    },
    {
      "cell_type": "code",
      "execution_count": 68,
      "metadata": {
        "colab": {
          "base_uri": "https://localhost:8080/"
        },
        "id": "M-bOgLS4pGgQ",
        "outputId": "b70c647b-88bb-4a2c-f46b-ce4b8cba4f4f"
      },
      "outputs": [
        {
          "name": "stdout",
          "output_type": "stream",
          "text": [
            "Original List: [1, 2, 3, 4, 5]\n",
            "Modified List: [1, 2, 10, 4, 5]\n",
            "Original tuple: (1, 2, 3, 4, 5)\n",
            "Error when modifying tuple: 'tuple' object does not support item assignment\n"
          ]
        }
      ],
      "source": [
        "# Q5. Create a list and tuple in Python, and demonstrate how attempting to\n",
        "# change an element works differently for each.\n",
        "\n",
        "my_list = [1,2,3,4,5]\n",
        "print(\"Original List:\", my_list)\n",
        "\n",
        "# to change value or modified  my_list value for index 2 value modify with 10\n",
        "my_list[2] = 10\n",
        "print(\"Modified List:\", my_list)\n",
        "\n",
        "'''\n",
        "Original List: [1, 2, 3, 4, 5]\n",
        "Modified List: [1, 2, 10, 4, 5]\n",
        "so as per the result my_list index 2 is change with th value 10\n",
        "'''\n",
        "\n",
        "my_tuple = (1,2,3,4,5)\n",
        "print(\"Original tuple:\", my_tuple)\n",
        "\n",
        "# to change value or modified  my_tuple value for index 2 value modify with 10\n",
        "try:\n",
        "  my_tuple[2] = 10\n",
        "  print(\"Modified tuple:\", my_tuple)\n",
        "except TypeError as e:\n",
        "    print(\"Error when modifying tuple:\", e)\n",
        "\n",
        "# so it is raise error like 'tuple' object does not support item assignment\n",
        "\n"
      ]
    },
    {
      "cell_type": "code",
      "execution_count": 87,
      "metadata": {
        "colab": {
          "base_uri": "https://localhost:8080/"
        },
        "id": "YE-8Qa6Z3Pep",
        "outputId": "7e0063ea-2779-4b56-cb02-ad471dab2c55"
      },
      "outputs": [
        {
          "name": "stdout",
          "output_type": "stream",
          "text": [
            "Before function call: Vishakha\n",
            "Inside function (immutable): Vishakhachaudhari\n",
            "After function call: Vishakha\n",
            "\n",
            "--------------------\n",
            "\n",
            "Before function call: [1, 2, 3]\n",
            "Inside function (mutable): [1, 2, 3, 100]\n",
            "After function call: [1, 2, 3, 100]\n"
          ]
        }
      ],
      "source": [
        "#Q6. Write a function to demonstrate the behavior of mutable and immutable arguments.\n",
        "\n",
        "# Immutable example: string\n",
        "def modify_immutable(x):\n",
        "    x += \"chaudhari\"\n",
        "    print(\"Inside function (immutable):\", x)\n",
        "\n",
        "# Mutable example: list\n",
        "def modify_mutable(lst):\n",
        "    lst.append(100)\n",
        "    print(\"Inside function (mutable):\", lst)\n",
        "\n",
        "# Test immutable\n",
        "name = \"Vishakha\"\n",
        "print(\"Before function call:\", name)\n",
        "modify_immutable(name)\n",
        "print(\"After function call:\", name)  # original num unchanged\n",
        "\n",
        "print(\"\\n--------------------\\n\")\n",
        "\n",
        "# Test mutable\n",
        "my_list = [1, 2, 3]\n",
        "print(\"Before function call:\", my_list)\n",
        "modify_mutable(my_list)\n",
        "print(\"After function call:\", my_list)  # original list modified"
      ]
    },
    {
      "cell_type": "code",
      "execution_count": 56,
      "metadata": {
        "colab": {
          "base_uri": "https://localhost:8080/"
        },
        "id": "G4eusrFlpuyY",
        "outputId": "6bcc0fec-1a5a-4ac9-9ce4-10de94169a85"
      },
      "outputs": [
        {
          "name": "stdout",
          "output_type": "stream",
          "text": [
            "Enter Number 1: 3\n",
            "Enter Number 2: 4\n",
            "\n",
            "Basic arithmetic operations:\n",
            "Addition: 7\n",
            "Subtraction: -1\n",
            "Multiplication: 12\n",
            "Division: 0.75\n",
            "Modulo: 3\n",
            "Exponentiation: 81\n"
          ]
        }
      ],
      "source": [
        "# Q7. Write a program that performs basic arithmetic operations on two user-input numbers.\n",
        "\n",
        "num1 = int(input(\"Enter Number 1: \"))\n",
        "num2 = int(input(\"Enter Number 2: \"))\n",
        "\n",
        "print(\"\\nBasic arithmetic operations:\")\n",
        "\n",
        "print(\"Addition:\", num1 + num2)\n",
        "print(\"Subtraction:\", num1 - num2)\n",
        "print(\"Multiplication:\", num1 * num2)\n",
        "\n",
        "# Check for division by zero\n",
        "if num2 != 0:\n",
        "    print(\"Division:\", num1 / num2)\n",
        "    print(\"Modulo:\", num1 % num2)\n",
        "else:\n",
        "    print(\"Division: Cannot divide by zero\")\n",
        "    print(\"Modulo: Cannot divide by zero\")\n",
        "\n",
        "print(\"Exponentiation:\", num1 ** num2)\n"
      ]
    },
    {
      "cell_type": "code",
      "execution_count": 94,
      "metadata": {
        "colab": {
          "base_uri": "https://localhost:8080/"
        },
        "id": "c6xcNZmEqQ2H",
        "outputId": "36359ac4-ac25-4f36-8e47-ee3756c6632e"
      },
      "outputs": [
        {
          "name": "stdout",
          "output_type": "stream",
          "text": [
            "Enter your age: 18\n",
            "Do you have an ID? (yes/no): yes\n",
            "Are you a citizen? (yes/no): no\n",
            "\n",
            "--- Logical Operators Demonstration ---\n",
            "\n",
            "You are NOT eligible to vote (AND condition).\n",
            "You can enter the club (OR condition).\n",
            "You cannot vote because you are NOT a citizen (NOT condition).\n"
          ]
        }
      ],
      "source": [
        "#Q8. Write a program to demonstrate the use of logical operators.\n",
        "\n",
        "age = int(input(\"Enter your age: \"))\n",
        "has_id = input(\"Do you have an ID? (yes/no): \").lower() == \"yes\"\n",
        "is_citizen = input(\"Are you a citizen? (yes/no): \").lower() == \"yes\"\n",
        "\n",
        "print(\"\\n--- Logical Operators Demonstration ---\\n\")\n",
        "\n",
        "# AND operator: both conditions must be True\n",
        "if age >= 18 and is_citizen:\n",
        "    print(\"You are eligible to vote (AND condition).\")\n",
        "else:\n",
        "    print(\"You are NOT eligible to vote (AND condition).\")\n",
        "\n",
        "# OR operator: at least one condition must be True\n",
        "if age >= 18 or has_id:\n",
        "    print(\"You can enter the club (OR condition).\")\n",
        "else:\n",
        "    print(\"You cannot enter the club (OR condition).\")\n",
        "\n",
        "# NOT operator: negates the condition\n",
        "if not is_citizen:\n",
        "    print(\"You cannot vote because you are NOT a citizen (NOT condition).\")\n"
      ]
    },
    {
      "cell_type": "code",
      "execution_count": 82,
      "metadata": {
        "colab": {
          "base_uri": "https://localhost:8080/"
        },
        "id": "AMfYLnI-qYRO",
        "outputId": "3739925b-ddf0-4f63-a1a6-06df6214531a"
      },
      "outputs": [
        {
          "name": "stdout",
          "output_type": "stream",
          "text": [
            "Enter a value to convert into int, float, and boolean: 0\n",
            "Converted to integer: 0\n",
            "Converted to float: 0.0\n",
            "Converted to boolean: True\n"
          ]
        }
      ],
      "source": [
        "# Q9. Convert user input from string to int, float, and boolean\n",
        "\n",
        "user_input = input(\"Enter a value to convert into int, float, and boolean: \")\n",
        "\n",
        "# Convert to integer\n",
        "try:\n",
        "    int_value = int(user_input)\n",
        "    print(f\"Converted to integer: {int_value}\")\n",
        "except ValueError:\n",
        "    print(\"Cannot convert to integer.\")\n",
        "\n",
        "# Convert to float\n",
        "try:\n",
        "    float_value = float(user_input)\n",
        "    print(f\"Converted to float: {float_value}\")\n",
        "except ValueError:\n",
        "    print(\"Cannot convert to float.\")\n",
        "\n",
        "# Convert to boolean\n",
        "# In Python, bool(\"any non-empty string\") is True, bool(\"\") is False\n",
        "bool_value = bool(user_input)\n",
        "print(f\"Converted to boolean: {bool_value}\")\n"
      ]
    },
    {
      "cell_type": "code",
      "execution_count": 89,
      "metadata": {
        "colab": {
          "base_uri": "https://localhost:8080/"
        },
        "id": "r2Esa6EVqeT4",
        "outputId": "f85c7732-759f-4fc9-f993-b00813581018"
      },
      "outputs": [
        {
          "name": "stdout",
          "output_type": "stream",
          "text": [
            "Original list: ['1', '2', '3', '4.5']\n",
            "Types of elements: [<class 'str'>, <class 'str'>, <class 'str'>, <class 'str'>]\n",
            "\n",
            "List after converting to integers: [1, 2, 3]\n",
            "Types of elements: [<class 'int'>, <class 'int'>, <class 'int'>]\n",
            "\n",
            "List after converting to floats: [1.0, 2.0, 3.0, 4.5]\n",
            "Types of elements: [<class 'float'>, <class 'float'>, <class 'float'>, <class 'float'>]\n",
            "\n",
            "List after converting to booleans: [True, True, True, True]\n",
            "Types of elements: [<class 'bool'>, <class 'bool'>, <class 'bool'>, <class 'bool'>]\n"
          ]
        }
      ],
      "source": [
        "# Q10. Demonstrate type casting with list elements\n",
        "\n",
        "# Original list with string numbers\n",
        "str_list = [\"1\", \"2\", \"3\", \"4.5\"]\n",
        "print(\"Original list:\", str_list)\n",
        "print(\"Types of elements:\", [type(x) for x in str_list])\n",
        "\n",
        "# Convert string elements to integers (only works for whole numbers)\n",
        "int_list = [int(x) for x in str_list if x.isdigit()]\n",
        "print(\"\\nList after converting to integers:\", int_list)\n",
        "print(\"Types of elements:\", [type(x) for x in int_list])\n",
        "\n",
        "# Convert string elements to float\n",
        "float_list = [float(x) for x in str_list]\n",
        "print(\"\\nList after converting to floats:\", float_list)\n",
        "print(\"Types of elements:\", [type(x) for x in float_list])\n",
        "\n",
        "# Convert string elements to boolean\n",
        "bool_list = [bool(x) for x in str_list]\n",
        "print(\"\\nList after converting to booleans:\", bool_list)\n",
        "print(\"Types of elements:\", [type(x) for x in bool_list])"
      ]
    },
    {
      "cell_type": "code",
      "execution_count": 20,
      "metadata": {
        "colab": {
          "base_uri": "https://localhost:8080/"
        },
        "id": "GCxDtaFIqi1M",
        "outputId": "053a2f9c-c572-48f5-e7eb-a4fbfd905efd"
      },
      "outputs": [
        {
          "name": "stdout",
          "output_type": "stream",
          "text": [
            "Enter Number :0\n",
            "Enter number 0 is zero \n"
          ]
        }
      ],
      "source": [
        "#Q11. Write a program that checks if a number is positive, negative, or zero.\n",
        "\n",
        "number = int(input(\"Enter Number :\"))\n",
        "\n",
        "if number > 0 :\n",
        "  print(f\"Enter number {number} is positive \")\n",
        "elif number < 0 :\n",
        "  print(f\"Enter number {number} is negative \")\n",
        "else :\n",
        "    print(f\"Enter number {number} is zero \")\n"
      ]
    },
    {
      "cell_type": "code",
      "execution_count": 23,
      "metadata": {
        "colab": {
          "base_uri": "https://localhost:8080/"
        },
        "id": "CxGmcVABq8w4",
        "outputId": "e4daea8f-a1f5-4b91-af70-f3e7feec1e1b"
      },
      "outputs": [
        {
          "name": "stdout",
          "output_type": "stream",
          "text": [
            "1\n",
            "2\n",
            "3\n",
            "4\n",
            "5\n",
            "6\n",
            "7\n",
            "8\n",
            "9\n",
            "10\n"
          ]
        }
      ],
      "source": [
        "#Q12. Write a for loop to print numbers from 1 to 10.\n",
        "\n",
        "for i in range(1,11):\n",
        "  print(i)"
      ]
    },
    {
      "cell_type": "code",
      "execution_count": 26,
      "metadata": {
        "colab": {
          "base_uri": "https://localhost:8080/"
        },
        "id": "eu6sUEHDrGii",
        "outputId": "fe1102c2-f729-401d-ca7f-70ed39443687"
      },
      "outputs": [
        {
          "name": "stdout",
          "output_type": "stream",
          "text": [
            "sum of all even element is : 6\n"
          ]
        }
      ],
      "source": [
        "#Q13. Write a Python program to find the sum of all even numbers between 1 and 50.\n",
        "\n",
        "#using for loop\n",
        "sum =0\n",
        "for i in range(1,51):\n",
        "  if i % 2 == 0:\n",
        "    sum = sum +i\n",
        "\n",
        "print(\"sum of all even element is :\", sum)\n",
        "\n"
      ]
    },
    {
      "cell_type": "code",
      "execution_count": 62,
      "metadata": {
        "colab": {
          "base_uri": "https://localhost:8080/"
        },
        "id": "4fPK15S-w50I",
        "outputId": "dabe4131-fd73-4c26-b803-5e09e26cd409"
      },
      "outputs": [
        {
          "name": "stdout",
          "output_type": "stream",
          "text": [
            "Sum of all even numbers between 1 and 50 is: 650\n"
          ]
        }
      ],
      "source": [
        "#Q13. Write a Python program to find the sum of all even numbers between 1 and 50.\n",
        "\n",
        "#using While loop\n",
        "\n",
        "total = 0\n",
        "i = 2\n",
        "while i <= 50:\n",
        "    total += i\n",
        "    i += 2\n",
        "print(\"Sum of all even numbers between 1 and 50 is:\", total)\n"
      ]
    },
    {
      "cell_type": "code",
      "execution_count": 36,
      "metadata": {
        "colab": {
          "base_uri": "https://localhost:8080/"
        },
        "id": "kEZsSNoFrSru",
        "outputId": "695226c1-ef84-42b9-835a-5f2af5a56d50"
      },
      "outputs": [
        {
          "name": "stdout",
          "output_type": "stream",
          "text": [
            "Enter Name: Vishakha\n",
            "Reversed: ahkahsiV\n"
          ]
        }
      ],
      "source": [
        "#Q14. Write a program to reverse a string using a while loop.\n",
        "\n",
        "name = input(\"Enter Name: \")\n",
        "i = len(name) - 1\n",
        "result = []\n",
        "\n",
        "while i >= 0:\n",
        "    result.append(name[i])\n",
        "    i -= 1\n",
        "\n",
        "print(\"Reversed:\", ''.join(result))\n"
      ]
    },
    {
      "cell_type": "code",
      "execution_count": 50,
      "metadata": {
        "colab": {
          "base_uri": "https://localhost:8080/"
        },
        "id": "xNgwDc-srvpl",
        "outputId": "aa201d1f-3886-4a8c-a54e-8f05b20cb484"
      },
      "outputs": [
        {
          "name": "stdout",
          "output_type": "stream",
          "text": [
            "Enter number: 5\n",
            "Factorial of 5 is 120\n"
          ]
        }
      ],
      "source": [
        "#Q15. Write a Python program to calculate the factorial of a number provided by the user using a while loop\n",
        "\n",
        "num = int(input(\"Enter number: \"))\n",
        "\n",
        "if num < 0:\n",
        "    print(\"Factorial does not exist for negative numbers.\")\n",
        "elif num == 0:\n",
        "    print(\"Factorial: 1\")\n",
        "else:\n",
        "    fact = 1\n",
        "    i = 1\n",
        "    while i <= num:\n",
        "        fact *= i\n",
        "        i += 1\n",
        "    print(f\"Factorial of {num} is {fact}\")\n",
        "\n"
      ]
    },
    {
      "cell_type": "code",
      "execution_count": null,
      "metadata": {
        "id": "fSHxK-VmtCzZ"
      },
      "outputs": [],
      "source": []
    }
  ],
  "metadata": {
    "colab": {
      "provenance": []
    },
    "kernelspec": {
      "display_name": "Python 3",
      "name": "python3"
    },
    "language_info": {
      "name": "python"
    }
  },
  "nbformat": 4,
  "nbformat_minor": 0
}
