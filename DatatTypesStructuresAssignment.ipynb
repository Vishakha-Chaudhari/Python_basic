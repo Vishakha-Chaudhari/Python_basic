{
  "nbformat": 4,
  "nbformat_minor": 0,
  "metadata": {
    "colab": {
      "provenance": []
    },
    "kernelspec": {
      "name": "python3",
      "display_name": "Python 3"
    },
    "language_info": {
      "name": "python"
    }
  },
  "cells": [
    {
      "cell_type": "markdown",
      "source": [
        "Data Types and Structures Assignment\n",
        "\n",
        "Theory Assignment\n",
        "\n",
        "1. What are data structures, and why are they important\n",
        "\n",
        "Ans - Data structures are specialized ways to organize and store data in a\n",
        "      computer for efficient access and manipulation, enabling faster processing and better application performance\n",
        "\n",
        "      Why They are important:\n",
        "      \n",
        "      1. Efficient Data Handling:\n",
        "          Python's built-in data structures like lists, dictionaries, sets, and tuples offer optimized ways to store and manage data.\n",
        "      \n",
        "      2. Organizing Data:\n",
        "          Data structures provide an organized way to store data that can be accessed and modified quickly\n",
        "\n",
        "      3. Code Readability and Maintainability:\n",
        "\t        Using appropriate data structures can make your code more organized, easier to understand, and simpler to maintain.\n",
        "      \n",
        "\n",
        "2.  Explain the difference between mutable and immutable data types with examples\n",
        "\n",
        "ans - Mutable vs Immutable Data Types\n",
        "        The main difference between mutable and immutable data types in Python lies in whether or not their values can be changed after they are created.\n",
        "\n",
        "        Mutable data types can be changed after they are created.\n",
        "        \n",
        "        Immutable data types cannot be changed once they are created.\n",
        "\n",
        "        Mutable Data Types:\n",
        "\n",
        "          A mutable data type allows modifications after its creation. You can change, add, or remove elements from mutable objects.\n",
        "\n",
        "      Examples of Mutable Data Types in Python:\n",
        "        1. Lists\n",
        "\n",
        "        2. Dictionaries\n",
        "\n",
        "        3. Sets\n",
        "\n",
        "\n",
        "      Example with List (Mutable):\n",
        "      # Example of a mutable object (list)\n",
        "      lst = [1, 2, 3]\n",
        "      print(\"Original list:\", lst)\n",
        "\n",
        "      # Modify the list\n",
        "      lst[1] = 100\n",
        "      print(\"Modified list:\", lst)\n",
        "\n",
        "      # Add a new element to the list\n",
        "      lst.append(200)\n",
        "      print(\"List after append:\", lst)\n",
        "\n",
        "      Output:\n",
        "      Original list: [1, 2, 3]\n",
        "      Modified list: [1, 100, 3]\n",
        "      List after append: [1, 100, 3, 200]\n",
        "\n",
        "      Here, the list lst was modified by changing the second element and appending a new value.\n",
        "\n",
        "      Immutable Data Types:\n",
        "\n",
        "        An immutable data type cannot be changed after it is created. Once you create an object of an immutable data type, you cannot alter its contents. Any operation that tries to modify an immutable object will result in the creation of a new object.\n",
        "\n",
        "      Examples of Immutable Data Types in Python:\n",
        "\n",
        "      1. Strings\n",
        "\n",
        "      2. Tuples\n",
        "\n",
        "      Integers\n",
        "\n",
        "      Floats\n",
        "\n",
        "      Booleans\n",
        "\n",
        "      Frozen sets\n",
        "\n",
        "      Key Characteristics:\n",
        "\n",
        "      Cannot be changed after creation.\n",
        "\n",
        "      If you attempt to modify it, a new object is created.\n",
        "\n",
        "      Example: If you change a string, you create a new string object.\n",
        "\n",
        "      Example with String (Immutable):\n",
        "      # Example of an immutable object (string)\n",
        "      str1 = \"Hello\"\n",
        "      print(\"Original string:\", str1)\n",
        "\n",
        "      # Attempt to modify the string (this creates a new string)\n",
        "      str1 = str1 + \" World\"\n",
        "      print(\"Modified string:\", str1)\n",
        "\n",
        "      Output:\n",
        "      Original string: Hello\n",
        "      Modified string: Hello World\n",
        "\n",
        "\n",
        "      The string str1 was not changed in place. Instead, a new string \"Hello World\" was created and assigned to str1.\n",
        "\n",
        "3. What are the main differences between lists and tuples in Python\n",
        "\n",
        "ans : 1. Mutability\n",
        "        List : Mutable\t Yes , we can modify, add, or remove elements after   \n",
        "               creation\n",
        "               eg. lst[0] = 10 works\n",
        "        tuples : No , once created, the elements cannot be changed\n",
        "                Example\t \ttpl[0] = 10 → raises TypeError\n",
        "\n",
        "      2. Syntax\n",
        "          list : Declaration\tSquare brackets []\n",
        "            Example:\tlst = [1, 2, 3]\n",
        "          Tuple : Parentheses () (or just commas)\n",
        "            Example\t: tpl = (1, 2, 3)\n",
        "\n",
        "      3. Performance\n",
        "          list :Speed\tSlower due to mutability overhead\t,\n",
        "                More memory used\n",
        "          Tuple: Faster because they are immutable\n",
        "                Less memory used\n",
        "\n",
        "      4. Methods Available\n",
        "            list : Common Methods\tappend(), extend(), insert(), remove(),\n",
        "                   pop(), clear(), sort(), reverse()\n",
        "            tuple :Only count() and index() are available\n",
        "\n",
        "      5. Use Cases\n",
        "            list : Use Case\tWhen we need a modifiable collection of items\ttuple : When you we an immutable collection or a fixed set of   \n",
        "                    items\n",
        "\n",
        "      6. Nesting and Heterogeneous Data\n",
        "            Both lists and tuples can contain mixed data types and nested structures.\n",
        "\n",
        "      example\n",
        "        lst = [1, \"hello\", [2,3]]\n",
        "        tpl = (1, \"hello\", (2,3))\n",
        "\n",
        "4. Describe how dictionaries store data\n",
        "\n",
        "ans - A dictionary in Python is an unordered collection of key-value pairs,   \n",
        "      where each key is unique and is used to access its associated value. Dictionaries are highly efficient for lookups, insertions, and deletions because of the way they store data internally.\n",
        "\n",
        "     example :\n",
        "      dict1 = {'name': 'Bob', 'age': 22, 'city': 'New York'}\n",
        "       \n",
        "5. Why might you use a set instead of a list in Python\n",
        "ans- to use set or list is depend on programmer, but i am give an some advantage of set over list  as per difference.\n",
        "  | Feature       | Set                 | List                 |\n",
        "  | --------------| --------------------| -------------------- |\n",
        "  | Duplicates    | Automatically removed| Allowed             |\n",
        "  |Membership Check| Very fast (O(1))    | Slower (O(n))       |\n",
        "  | Order          | Unordered           | Ordered             |\n",
        "  |Operations      | Supports set operations (union, intersection, etc.)| No direct set operations               |\n",
        "| Indexing/Slicing |  Not supported                                     | Supported                            |\n",
        "| Use Case         | Unique elements, fast lookups, set operations       | Ordered collections, duplicates needed |\n",
        "\n",
        "6. What is a string in Python, and how is it different from a list\n",
        "\n",
        "ANS  A string in Python is a sequence of characters enclosed in single quotes\n",
        "     (' '), double quotes (\" \"), or even triple quotes (''' ''' / \"\"\" \"\"\").\n",
        "\n",
        "     Example:\n",
        "      text = \"Hello, World!\"\n",
        "\n",
        "      - Strings are immutable\n",
        "\n",
        "\n",
        "      A list is an ordered, mutable collection that can contain different types of data — not just characters.\n",
        "\n",
        "      Example:\n",
        "        my_list = [1, \"Hello\", 3.14, True]\n",
        "\n",
        "      - The list contains multiple data types\n",
        "\n",
        "      | Feature                         | **String**                 | **List**                        |\n",
        "      | ------------------------------- | -------------------------- | ------------------------------- |\n",
        "      | **Type of Data**                | Sequence of **characters** | Collection of **any data type** |\n",
        "      | **Mutable?**                    |   No (Immutable)           |  Yes (Mutable)                 |\n",
        "      | **Syntax**                      | `\"Hello\"` or `'Hello'`     | `[1, 2, 3]`                     |\n",
        "      | **Indexing**                    | Yes                        | Yes                             |\n",
        "      | **Slicing**                     | Yes                        | Yes                             |\n",
        "      | **Change elements**             |  Not allowed              |     Allowed                       |\n",
        "      | **Can contain multiple types?** |  Only characters          |  Any data type                 |\n",
        "      | **Iteration**                   | Character by character     | Element by element              |\n",
        "\n",
        "\n",
        "7. How do tuples ensure data integrity in Python\n",
        "ANS - Tuples are immutable, meaning once created, their elements cannot be\n",
        "      changed.\n",
        "\n",
        "      This prevents accidental modification of data and ensures the data remains consistent.\n",
        "      \n",
        "      Example:\n",
        "\n",
        "        person = (\"Alice\", 25, \"Paris\")\n",
        "        # person[1] = 26  -> Error (immutable)\n",
        "\n",
        "\n",
        "      **Data integrity** is preserved because the tuple’s content cannot be altered after creation.\n",
        "\n",
        "8. What is a hash table, and how does it relate to dictionaries in Python\n",
        "ANS - A hash table is a data structure that maps keys → values using a hash   \n",
        "      function.\n",
        "\n",
        "      In Python, dictionaries are implemented using hash tables.\n",
        "\n",
        "      This allows O(1) average time complexity for lookup, insertion, and deletion.\n",
        "\n",
        "      Example:\n",
        "\n",
        "      student = {\"name\": \"Bob\", \"age\": 22}\n",
        "      \n",
        "\n",
        "9. Can lists contain different data types in Python\n",
        "\n",
        "ANS - Yes.\n",
        "      Lists in Python are heterogeneous, meaning they can store different data types.\n",
        "\n",
        "      Example:\n",
        "\n",
        "      lst = [1, \"hello\", 3.14, True]\n",
        "\n",
        "10. Explain why strings are immutable in Python\n",
        "\n",
        "ANS - Strings are immutable to:\n",
        "\n",
        "      Save memory (they can be reused).\n",
        "      Make them thread-safe.\n",
        "      Ensure consistent behavior when used as dictionary keys or in sets.\n",
        "      Example:\n",
        "        s = \"Hello\"\n",
        "        # s[0] = \"Y\"  -> Error\n",
        "        s = \"Yellow\"  # Creates a new string object\n",
        "\n",
        "11. What advantages do dictionaries offer over lists for certain tasks\n",
        "\n",
        "ANS -\n",
        "\n",
        "    | Task                    | Dictionary Advantage                              |\n",
        "    | ----------------------- | ------------------------------------------------- |\n",
        "    | **Fast lookup**         | O(1) access using keys                            |\n",
        "    | **Key-value storage**   | Easily associate data (e.g., name → phone number) |\n",
        "    | **Meaningful indexing** | Access by key name instead of numeric index       |\n",
        "\n",
        "    Example:\n",
        "\n",
        "      # Easier to find data by name instead of index\n",
        "      contacts = {\"Alice\": 1234, \"Bob\": 5678}\n",
        "      print(contacts[\"Bob\"])  # 5678\n",
        "\n",
        "\n",
        "\n",
        "12. Describe a scenario where using a tuple would be preferable over a list\n",
        "ANS - When you want data that shouldn’t change.\n",
        "\n",
        "      Example:\n",
        "\n",
        "      # Coordinates should not change accidentally\n",
        "      location = (40.7128, -74.0060)\n",
        "\n",
        "\n",
        "      Tuples are also faster and can be used as dictionary keys (unlike lists).\n",
        "\n",
        "13. How do sets handle duplicate values in Python\n",
        "\n",
        "ANS - Sets automatically remove duplicates.\n",
        "\n",
        "      When a duplicate value is added, Python ignores it.\n",
        "\n",
        "      Example:\n",
        "        s = {1, 2, 2, 3, 3}\n",
        "        print(s)  # Output: {1, 2, 3}\n",
        "\n",
        "14. How does the “in” keyword work differently for lists and dictionaries\n",
        "ANS-\n",
        "\n",
        "    | Structure      | What `\"in\"` checks                           |\n",
        "    | -------------- | -------------------------------------------- |\n",
        "    | **List**       | Checks if a value exists in the list         |\n",
        "    | **Dictionary** | Checks if a **key** exists in the dictionary |\n",
        "\n",
        "      EX:\n",
        "      \n",
        "        lst = [1, 2, 3]\n",
        "        print(2 in lst)  # True\n",
        "\n",
        "        d = {\"a\": 1, \"b\": 2}\n",
        "        print(\"a\" in d)  # True (checks keys, not values)\n",
        "\n",
        "15. Can you modify the elements of a tuple? Explain why or why not\n",
        "\n",
        "ANS - No.\n",
        "      Tuples are immutable, meaning once created, you cannot change, add, or remove elements.\n",
        "      Example:\n",
        "\n",
        "      tpl = (1, 2, 3)\n",
        "      # tpl[0] = 10  -> TypeError\n",
        "\n",
        "16. What is a nested dictionary, and give an example of its use case\n",
        "\n",
        "ANS - A nested dictionary is a dictionary inside another dictionary — used to\n",
        "      store hierarchical or structured data.\n",
        "\n",
        "      Example:\n",
        "\n",
        "      students = {\n",
        "          \"Alice\": {\"age\": 25, \"city\": \"Paris\"},\n",
        "          \"Bob\": {\"age\": 22, \"city\": \"London\"}\n",
        "      }\n",
        "      print(students[\"Alice\"][\"city\"])  # Output: Paris\n",
        "\n",
        "      Use case:\n",
        "        storing database-like structured data (e.g., student profiles, configurations).\n",
        "\n",
        "17. Describe the time complexity of accessing elements in a dictionary\n",
        "\n",
        "ANS -\n",
        "      Average case: O(1) (constant time)\n",
        "      Worst case (rare, due to collisions): O(n)\n",
        "      Dictionaries use hash tables, making lookups and insertions extremely fast.\n",
        "\n",
        "18. In what situations are lists preferred over dictionaries\n",
        "\n",
        "ANS - Use lists when:\n",
        "        1. Order matters.\n",
        "        2. You only need to store values (no keys).\n",
        "        3. You expect duplicate values.\n",
        "        4. You need to perform operations like sorting, slicing, or iteration in sequence.\n",
        "      \n",
        "      Example:\n",
        "        names = [\"Alice\", \"Bob\", \"Charlie\"]\n",
        "\n",
        "19. Why are dictionaries considered unordered, and how does that affect data retrieval\n",
        "\n",
        "ANS - Before Python 3.7, dictionaries didn’t maintain insertion order — they  \n",
        "      stored items based on hash values.\n",
        "      \n",
        "  From Python 3.7 onward, they preserve insertion order, but this is an implementation detail, not a reliance guarantee.\n",
        "\n",
        "  Data retrieval is based on key lookup, not order — you access values by key, not by position.\n",
        "\n",
        "    Example:\n",
        "\n",
        "    data = {\"b\": 2, \"a\": 1}\n",
        "    print(data[\"a\"])  # Access by key, not order\n",
        "\n",
        "\n",
        "20. Explain the difference between a list and a dictionary in terms of data retrieval.\n",
        "\n",
        "  ANS -\n",
        "  | Feature          | **List**                | **Dictionary**     |\n",
        "  | ---------------- | ----------------------- | ------------------ |\n",
        "  | **Access type**  | By **index** (position) | By **key** (label) |\n",
        "  | **Example**      | `lst[0]`                | `dict[\"name\"]`     |\n",
        "  | **Search speed** | Slower (O(n))           | Faster (O(1))      |\n",
        "  | **Best for**     | Ordered collections     | Key-value mappings |\n",
        "\n",
        "    EXAMPLE:\n",
        "      lst = [\"apple\", \"banana\", \"cherry\"]\n",
        "      print(lst[1])  # banana\n",
        "\n",
        "      dct = {\"a\": \"apple\", \"b\": \"banana\"}\n",
        "      print(dct[\"b\"])  # banana\n",
        "\n"
      ],
      "metadata": {
        "id": "mtKPZ1JfVltB"
      }
    },
    {
      "cell_type": "markdown",
      "source": [
        "**Prectical Assignment**"
      ],
      "metadata": {
        "id": "h-ten8dmWPQP"
      }
    },
    {
      "cell_type": "code",
      "source": [
        "# 1. Write a code to create a string with your name and print it\n",
        "\n",
        "name = \"vishakha\"\n",
        "print(f\"My name is : {name}\")"
      ],
      "metadata": {
        "colab": {
          "base_uri": "https://localhost:8080/"
        },
        "id": "MxL_K-gRWbKq",
        "outputId": "1482ff98-51ce-4717-9f70-ebc6bacad1eb"
      },
      "execution_count": null,
      "outputs": [
        {
          "output_type": "stream",
          "name": "stdout",
          "text": [
            "My name is : vishakha\n"
          ]
        }
      ]
    },
    {
      "cell_type": "code",
      "source": [
        "#2. Write a code to find the length of the string \"Hello World\"\n",
        "\n",
        "strs = \"Hello World\"\n",
        "print(f\"Length of {strs} is : {len(strs)}\")\n"
      ],
      "metadata": {
        "colab": {
          "base_uri": "https://localhost:8080/"
        },
        "id": "-cZjSQzbWlwz",
        "outputId": "b29e9227-6054-4dea-9c88-fafdbd5fe64f"
      },
      "execution_count": null,
      "outputs": [
        {
          "output_type": "stream",
          "name": "stdout",
          "text": [
            "Length of Hello World is : 11\n"
          ]
        }
      ]
    },
    {
      "cell_type": "code",
      "source": [
        "#3. Write a code to slice the first 3 characters from the string \"Python Programming\"\n",
        "\n",
        "strs = \"Python Programming\"\n",
        "print(f\"First 3 charachter of {strs} are: {strs[:3]}\")"
      ],
      "metadata": {
        "colab": {
          "base_uri": "https://localhost:8080/"
        },
        "id": "yLYqs2bhewQF",
        "outputId": "ec7c4c31-dc02-4092-d388-f5defbe98016"
      },
      "execution_count": null,
      "outputs": [
        {
          "output_type": "stream",
          "name": "stdout",
          "text": [
            "First 3 charachter of Python Programming is: Pyt\n"
          ]
        }
      ]
    },
    {
      "cell_type": "code",
      "source": [
        "#4. Write a code to convert the string \"hello\" to uppercase\n",
        "\n",
        "strs = \"hello\"\n",
        "print(f\"Uppercase of {strs} is : {strs.upper()}\" )\n"
      ],
      "metadata": {
        "colab": {
          "base_uri": "https://localhost:8080/"
        },
        "id": "5pSzEDT6fDLh",
        "outputId": "e8d1c667-0dd5-4c8a-f0ba-725f9e0fb28c"
      },
      "execution_count": null,
      "outputs": [
        {
          "output_type": "stream",
          "name": "stdout",
          "text": [
            "Uppercase of hello is : HELLO\n"
          ]
        }
      ]
    },
    {
      "cell_type": "code",
      "source": [
        "#5. Write a code to replace the word \"apple\" with \"orange\" in the string \"I like apple\"\n",
        "\n",
        "string = \"I like apple\"\n",
        "print(f\"Original string is : {string}\")\n",
        "\n",
        "print(f\"Replace apple with orange : {string.replace(\"apple\",\"orange\")}\")\n"
      ],
      "metadata": {
        "colab": {
          "base_uri": "https://localhost:8080/"
        },
        "id": "VlTjJfD3fdTk",
        "outputId": "b95a7e8a-9f49-4bae-a6d3-0f4885cc172c"
      },
      "execution_count": null,
      "outputs": [
        {
          "output_type": "stream",
          "name": "stdout",
          "text": [
            "Original string is : I like apple\n",
            "Replace apple with orange : I like orange\n"
          ]
        }
      ]
    },
    {
      "cell_type": "code",
      "source": [
        "#6.  Write a code to create a list with numbers 1 to 5 and print it\n",
        "\n",
        "lst = [1,2,3,4,5]\n",
        "print(f\"List is : {lst}\")"
      ],
      "metadata": {
        "colab": {
          "base_uri": "https://localhost:8080/"
        },
        "id": "br9xiyylf5dF",
        "outputId": "24630cca-6742-42af-a109-75af4a081f19"
      },
      "execution_count": null,
      "outputs": [
        {
          "output_type": "stream",
          "name": "stdout",
          "text": [
            "List is : [1, 2, 3, 4, 5]\n"
          ]
        }
      ]
    },
    {
      "cell_type": "code",
      "source": [
        "#7. Write a code to append the number 10 to the list [1, 2, 3, 4]\n",
        "\n",
        "lst1 = [1, 2, 3, 4]\n",
        "print(f\"Before append element : {lst1}\")\n",
        "\n",
        "lst1.append(10)\n",
        "print(f\"After append element : {lst1}\")\n"
      ],
      "metadata": {
        "colab": {
          "base_uri": "https://localhost:8080/"
        },
        "id": "xsaXf2hXgHMz",
        "outputId": "ca2751f7-6119-4421-bceb-88a0dfd61092"
      },
      "execution_count": null,
      "outputs": [
        {
          "output_type": "stream",
          "name": "stdout",
          "text": [
            "Before append element : [1, 2, 3, 4]\n",
            "After append element : [1, 2, 3, 4, 10]\n"
          ]
        }
      ]
    },
    {
      "cell_type": "code",
      "source": [
        "#8. Write a code to remove the number 3 from the list [1, 2, 3, 4, 5]\n",
        "lst2 = [1, 2, 3, 4, 5]\n",
        "print(f\"Before remove element : {lst2}\")\n",
        "\n",
        "lst2.remove(3)\n",
        "print(f\"After remove element : {lst2}\")\n"
      ],
      "metadata": {
        "colab": {
          "base_uri": "https://localhost:8080/"
        },
        "id": "KKKHgmQYge3k",
        "outputId": "f3262b0e-e193-4335-ab33-3276d9f3414b"
      },
      "execution_count": null,
      "outputs": [
        {
          "output_type": "stream",
          "name": "stdout",
          "text": [
            "Before remove element : [1, 2, 3, 4, 5]\n",
            "After remove element : [1, 2, 4, 5]\n"
          ]
        }
      ]
    },
    {
      "cell_type": "code",
      "source": [
        "#9. Write a code to access the second element in the list ['a', 'b', 'c', 'd']\n",
        "lst = ['a', 'b', 'c', 'd']\n",
        "print(f\"Accesss second element in list : {lst[1]}\")\n",
        "print(f\"Accesss second element in list using (-) index : {lst[-3]}\")"
      ],
      "metadata": {
        "colab": {
          "base_uri": "https://localhost:8080/"
        },
        "id": "6BkiR11dgwHm",
        "outputId": "c2577f4d-83a8-4a51-d85c-3d0ead64448f"
      },
      "execution_count": null,
      "outputs": [
        {
          "output_type": "stream",
          "name": "stdout",
          "text": [
            "Accesss second element in list : b\n",
            "Accesss second element in list using (-) index : b\n"
          ]
        }
      ]
    },
    {
      "cell_type": "code",
      "source": [
        "#10. Write a code to reverse the list [10, 20, 30, 40, 50].\n",
        "\n",
        "lst = [10, 20, 30, 40, 50]\n",
        "print(\"Before reverse list \", lst)\n",
        "\n",
        "print(\"After reverse list \", lst[::-1])\n",
        "\n",
        "lst.reverse()\n",
        "print(\"second way to reverse list \", lst)\n"
      ],
      "metadata": {
        "colab": {
          "base_uri": "https://localhost:8080/"
        },
        "id": "Do8aE60ghiz3",
        "outputId": "b7892eff-9dd1-4609-cafc-bdae9709ee5a"
      },
      "execution_count": null,
      "outputs": [
        {
          "output_type": "stream",
          "name": "stdout",
          "text": [
            "Before reverse list  [10, 20, 30, 40, 50]\n",
            "After reverse list  [50, 40, 30, 20, 10]\n",
            "second way to reverse list  [50, 40, 30, 20, 10]\n"
          ]
        }
      ]
    },
    {
      "cell_type": "code",
      "source": [
        "#11. Write a code to create a tuple with the elements 100, 200, 300 and print it.\n",
        "tpl =(100, 200, 300)\n",
        "print(tpl)"
      ],
      "metadata": {
        "colab": {
          "base_uri": "https://localhost:8080/"
        },
        "id": "1h0rOsBjh7TS",
        "outputId": "aeb00e32-3cd8-4fc7-ac62-d761976f1d67"
      },
      "execution_count": null,
      "outputs": [
        {
          "output_type": "stream",
          "name": "stdout",
          "text": [
            "(100, 200, 300)\n"
          ]
        }
      ]
    },
    {
      "cell_type": "code",
      "source": [
        "#12. Write a code to access the second-to-last element of the tuple ('red', 'green', 'blue', 'yellow').\n",
        "tpl = ('red', 'green', 'blue', 'yellow')\n",
        "\n",
        "print(\"Access second-to-last element from tuple : \" , tpl[-2])\n"
      ],
      "metadata": {
        "colab": {
          "base_uri": "https://localhost:8080/"
        },
        "id": "mSDHmqUil2Fi",
        "outputId": "dae7a3f4-9fc8-4037-b563-04da6334a1ef"
      },
      "execution_count": null,
      "outputs": [
        {
          "output_type": "stream",
          "name": "stdout",
          "text": [
            "Access second-to-last element from tuple :  blue\n",
            "second way to Access second-to-last element from tuple :  blue\n"
          ]
        }
      ]
    },
    {
      "cell_type": "code",
      "source": [
        "#13. Write a code to find the minimum number in the tuple (10, 20, 5, 15).\n",
        "\n",
        "tpl = (10, 20, 5, 15)\n",
        "print(f\"Minimum Number of element from tuple : {min(tpl)}\")"
      ],
      "metadata": {
        "colab": {
          "base_uri": "https://localhost:8080/"
        },
        "id": "Nswv8ZovmL8D",
        "outputId": "86a5fe5a-4974-4b35-c2cf-8b9fbc155d21"
      },
      "execution_count": null,
      "outputs": [
        {
          "output_type": "stream",
          "name": "stdout",
          "text": [
            "Minimum Number of element from tuple : {min(tpl)}\n"
          ]
        }
      ]
    },
    {
      "cell_type": "code",
      "source": [
        "#14. Write a code to find the index of the element \"cat\" in the tuple ('dog', 'cat', 'rabbit').\n",
        "\n",
        "tpl = ('dog', 'cat', 'rabbit')\n",
        "print(\"Index of cat in tuple is :\" ,tpl.index('cat'))"
      ],
      "metadata": {
        "colab": {
          "base_uri": "https://localhost:8080/"
        },
        "id": "4s1lb9Lumudy",
        "outputId": "69b94f56-8758-4d61-a14b-2be9706dc1e9"
      },
      "execution_count": null,
      "outputs": [
        {
          "output_type": "stream",
          "name": "stdout",
          "text": [
            "Index of cat in tuple is : 1\n"
          ]
        }
      ]
    },
    {
      "cell_type": "code",
      "source": [
        "#15. Write a code to create a tuple containing three different fruits and check if \"kiwi\" is in it.\n",
        "\n",
        "fruit_tpl = (\"mango\",\"apple\",\"kiwi\")\n",
        "\"kiwi\" in fruit_tpl"
      ],
      "metadata": {
        "colab": {
          "base_uri": "https://localhost:8080/"
        },
        "id": "oNrDLa9EnFGe",
        "outputId": "1c3ab5a7-e221-4153-830f-4de1bc2017e3"
      },
      "execution_count": null,
      "outputs": [
        {
          "output_type": "execute_result",
          "data": {
            "text/plain": [
              "True"
            ]
          },
          "metadata": {},
          "execution_count": 34
        }
      ]
    },
    {
      "cell_type": "code",
      "source": [
        "#16.  Write a code to create a set with the elements 'a', 'b', 'c' and print it.\n",
        "\n",
        "sets = {'a','b','c'}\n",
        "print(sets)"
      ],
      "metadata": {
        "colab": {
          "base_uri": "https://localhost:8080/"
        },
        "id": "edHj1Uh-nbpJ",
        "outputId": "38431d47-401a-4568-ac7d-d05ab5f1a574"
      },
      "execution_count": null,
      "outputs": [
        {
          "output_type": "stream",
          "name": "stdout",
          "text": [
            "{'b', 'c', 'a'}\n"
          ]
        }
      ]
    },
    {
      "cell_type": "code",
      "source": [
        "#17.  Write a code to clear all elements from the set {1, 2, 3, 4, 5}.\n",
        "sets = {1, 2, 3, 4, 5}\n",
        "print(f\"Before clear set : {sets}\")\n",
        "\n",
        "sets.clear()\n",
        "print(f\"After clear set : {sets}\")"
      ],
      "metadata": {
        "colab": {
          "base_uri": "https://localhost:8080/"
        },
        "id": "0_EW9Eusnp9D",
        "outputId": "a287f39b-2fad-4d58-b840-f91fe1a1637d"
      },
      "execution_count": null,
      "outputs": [
        {
          "output_type": "stream",
          "name": "stdout",
          "text": [
            "Before clear set : {1, 2, 3, 4, 5}\n",
            "After clear set : set()\n"
          ]
        }
      ]
    },
    {
      "cell_type": "code",
      "source": [
        "#18. Write a code to remove the element 4 from the set {1, 2, 3, 4}.\n",
        "\n",
        "sets = {1, 2, 3, 4}\n",
        "print(f\"Before remove element : {sets}\")\n",
        "\n",
        "sets.remove(4)\n",
        "print(f\"After remove element : {sets}\")\n"
      ],
      "metadata": {
        "colab": {
          "base_uri": "https://localhost:8080/"
        },
        "id": "gwrloiyhn_-S",
        "outputId": "c27799bc-eaf5-42c4-b66f-e6862571a06e"
      },
      "execution_count": null,
      "outputs": [
        {
          "output_type": "stream",
          "name": "stdout",
          "text": [
            "Before remove element : {1, 2, 3, 4}\n",
            "After remove element : {1, 2, 3}\n"
          ]
        }
      ]
    },
    {
      "cell_type": "code",
      "source": [
        "#19.  Write a code to find the union of two sets {1, 2, 3} and {3, 4, 5}\n",
        "\n",
        "set1 = {1, 2, 3}\n",
        "set2 = {3, 4, 5}\n",
        "\n",
        "print(f\"union of 2 set is : {set1 | set2}\" )\n",
        "\n",
        "print(f\"union of 2 set is : {set1.union(set2)}\" )"
      ],
      "metadata": {
        "colab": {
          "base_uri": "https://localhost:8080/"
        },
        "id": "5Nur7DNOoVJR",
        "outputId": "c80b556f-2445-4cc3-89b7-7c76a3a96313"
      },
      "execution_count": null,
      "outputs": [
        {
          "output_type": "stream",
          "name": "stdout",
          "text": [
            "union of 2 set is : {1, 2, 3, 4, 5}\n",
            "union of 2 set is : {1, 2, 3, 4, 5}\n"
          ]
        }
      ]
    },
    {
      "cell_type": "code",
      "source": [
        "#20. Write a code to find the intersection of two sets {1, 2, 3} and {2, 3, 4}\n",
        "\n",
        "set1 = {1,2,3}\n",
        "set2 = {2,3,4}\n",
        "\n",
        "print(f\"intersection of 2 set is : {set1 & set2}\" )\n",
        "print(f\"intersection of 2 set is : {set1.intersection(set2)}\" )\n"
      ],
      "metadata": {
        "colab": {
          "base_uri": "https://localhost:8080/"
        },
        "id": "crt_WBSmojsK",
        "outputId": "b743b8f3-7cbf-4a10-d713-04948f94febe"
      },
      "execution_count": null,
      "outputs": [
        {
          "output_type": "stream",
          "name": "stdout",
          "text": [
            "intersection of 2 set is : {2, 3}\n",
            "intersection of 2 set is : {2, 3}\n"
          ]
        }
      ]
    },
    {
      "cell_type": "code",
      "source": [
        "#21.  Write a code to create a dictionary with the keys \"name\", \"age\", and \"city\", and print it\n",
        "\n",
        "dict1 = {\"name\":\"vishakha\" , \"age\" : 23,\"city\":\"bilimora\"}\n",
        "print(dict1)"
      ],
      "metadata": {
        "colab": {
          "base_uri": "https://localhost:8080/"
        },
        "id": "NoS6oIv-o2ro",
        "outputId": "bf360539-429c-4a19-d5b8-a4f47552dfa0"
      },
      "execution_count": null,
      "outputs": [
        {
          "output_type": "stream",
          "name": "stdout",
          "text": [
            "{'name': 'vishakha', 'age': 23, 'city': 'bilimora'}\n"
          ]
        }
      ]
    },
    {
      "cell_type": "code",
      "source": [
        "#22.  Write a code to add a new key-value pair \"country\": \"USA\" to the dictionary {'name': 'John', 'age': 25}\n",
        "\n",
        "dict1 = {'name': 'John', 'age': 25}\n",
        "print(\"Before Add key-value pair in dict\", dict1)\n",
        "\n",
        "\n",
        "dict1[\"country\"]= \"USA\"\n",
        "print(\"After Add key-value pair in dict\", dict1)\n"
      ],
      "metadata": {
        "colab": {
          "base_uri": "https://localhost:8080/"
        },
        "id": "lRN5KgsUpDS6",
        "outputId": "a781fea4-ce6e-4603-bf3d-418097ef9bba"
      },
      "execution_count": null,
      "outputs": [
        {
          "output_type": "stream",
          "name": "stdout",
          "text": [
            "Before Add key-value pair in dict {'name': 'John', 'age': 25}\n",
            "After Add key-value pair in dict {'name': 'John', 'age': 25, 'country': 'USA'}\n"
          ]
        }
      ]
    },
    {
      "cell_type": "code",
      "source": [
        "#23. Write a code to access the value associated with the key \"name\" in the dictionary {'name': 'Alice', 'age': 30}.\n",
        "dict1 = {'name': 'Alice', 'age': 30}\n",
        "print(\"value of key name is :\", dict1[\"name\"])"
      ],
      "metadata": {
        "colab": {
          "base_uri": "https://localhost:8080/"
        },
        "id": "M4g-bofmpW_p",
        "outputId": "c91e0ac3-bf58-4950-9d5b-b94ae23caeb0"
      },
      "execution_count": null,
      "outputs": [
        {
          "output_type": "stream",
          "name": "stdout",
          "text": [
            "value of key name is Alice\n"
          ]
        }
      ]
    },
    {
      "cell_type": "code",
      "source": [
        "#24. Write a code to remove the key \"age\" from the dictionary {'name': 'Bob', 'age': 22, 'city': 'New York'}.\n",
        "dict1 = {'name': 'Bob', 'age': 22, 'city': 'New York'}\n",
        "print(\"Before remove element from dictionary:\" , dict1)\n",
        "\n",
        "dict1.pop(\"name\")\n",
        "print(\"After remove element from dictionary:\" , dict1)\n"
      ],
      "metadata": {
        "colab": {
          "base_uri": "https://localhost:8080/"
        },
        "id": "pIlOfRiOp_qQ",
        "outputId": "cf1b7255-22a8-40e4-ecdb-f5d67a73b57d"
      },
      "execution_count": null,
      "outputs": [
        {
          "output_type": "stream",
          "name": "stdout",
          "text": [
            "Before remove element from dictionary: {'name': 'Bob', 'age': 22, 'city': 'New York'}\n",
            "After remove element from dictionary: {'age': 22, 'city': 'New York'}\n"
          ]
        }
      ]
    },
    {
      "cell_type": "code",
      "source": [
        "#25. Write a code to check if the key \"city\" exists in the dictionary {'name': 'Alice', 'city': 'Paris'}.\n",
        "\n",
        "dict1 = {'name': 'Alice', 'city': 'Paris'}\n",
        "\"city\" in dict1"
      ],
      "metadata": {
        "colab": {
          "base_uri": "https://localhost:8080/"
        },
        "id": "2hU1quh0qtn2",
        "outputId": "1160bb81-c65a-4afe-f441-084d2206a0bd"
      },
      "execution_count": null,
      "outputs": [
        {
          "output_type": "execute_result",
          "data": {
            "text/plain": [
              "True"
            ]
          },
          "metadata": {},
          "execution_count": 58
        }
      ]
    },
    {
      "cell_type": "code",
      "source": [
        "#26. Write a code to create a list, a tuple, and a dictionary, and print them all\n",
        "\n",
        "lst = [1,2,3,4,5]\n",
        "tpl= (1,2,3,4,5,6)\n",
        "dict1 = {\"name\":\"vishakha\" , \"age\" : 23,\"city\":\"bilimora\"}\n",
        "\n",
        "print(lst)\n",
        "print(tpl)\n",
        "print(dict1)"
      ],
      "metadata": {
        "colab": {
          "base_uri": "https://localhost:8080/"
        },
        "id": "NnLyzxncrD4Y",
        "outputId": "c684f576-1cca-4395-944a-0cc88e7fbcc3"
      },
      "execution_count": null,
      "outputs": [
        {
          "output_type": "stream",
          "name": "stdout",
          "text": [
            "[1, 2, 3, 4, 5]\n",
            "(1, 2, 3, 4, 5, 6)\n",
            "{'name': 'vishakha', 'age': 23, 'city': 'bilimora'}\n"
          ]
        }
      ]
    },
    {
      "cell_type": "code",
      "source": [
        "#27.  Write a code to create a list of 5 random numbers between 1 and 100, sort it in ascending order, and print the result.(replaced)\n",
        "\n",
        "from random import randint\n",
        "\n",
        "lst = []\n",
        "for _ in range(5):\n",
        "  lst.append(randint(1,100))\n",
        "\n",
        "print(f\"Before sort the list : {lst}\")\n",
        "lst.sort()\n",
        "\n",
        "print(f\"After sort the list : {lst}\")"
      ],
      "metadata": {
        "id": "GShn_MWtsAAg",
        "colab": {
          "base_uri": "https://localhost:8080/"
        },
        "outputId": "0ccfa513-0789-49e5-89c9-726394ac1276"
      },
      "execution_count": 66,
      "outputs": [
        {
          "output_type": "stream",
          "name": "stdout",
          "text": [
            "Before sort the list : [16, 92, 70, 85, 4]\n",
            "After sort the list : [4, 16, 70, 85, 92]\n"
          ]
        }
      ]
    },
    {
      "cell_type": "code",
      "source": [
        "#28. Write a code to create a list with strings and print the element at the third index\n",
        "lst_string = [\"surat\",\"navsari\",\"bilimora\",\"puna\",\"mumbai\"]\n",
        "\n",
        "print(f\"element at the third index : {lst_string[3]}\")\n"
      ],
      "metadata": {
        "id": "kKRSDhdLsPnz",
        "colab": {
          "base_uri": "https://localhost:8080/"
        },
        "outputId": "da19eab4-b609-4863-bfa3-c0653f8adaac"
      },
      "execution_count": 70,
      "outputs": [
        {
          "output_type": "stream",
          "name": "stdout",
          "text": [
            "element at the third index : puna\n"
          ]
        }
      ]
    },
    {
      "cell_type": "code",
      "source": [
        "#29. Write a code to combine two dictionaries into one and print the result.\n",
        "\n",
        "dict1 = {'name': 'Alice', 'city': 'Paris'}\n",
        "dict2 = {'email': 'Alice@gmail.com'}\n",
        "\n",
        "dict1.update(dict2)\n",
        "\n",
        "print(\"Combine of 2 dictionaries : \", dict1)"
      ],
      "metadata": {
        "colab": {
          "base_uri": "https://localhost:8080/"
        },
        "id": "CQA5bTZ8toTT",
        "outputId": "f149af43-8b01-44c5-81c0-7655fc1b0d19"
      },
      "execution_count": 72,
      "outputs": [
        {
          "output_type": "stream",
          "name": "stdout",
          "text": [
            "Combine of 2 dictionaries :  {'name': 'Alice', 'city': 'Paris', 'email': 'Alice@gmail.com'}\n"
          ]
        }
      ]
    },
    {
      "cell_type": "code",
      "source": [
        "#30. Write a code to convert a list of strings into a set.\n",
        "\n",
        "lst_string = [\"surat\",\"navsari\",\"bilimora\",\"puna\",\"mumbai\",\"bilimora\",\"navsari\"]\n",
        "\n",
        "st = set(lst_string)\n",
        "print(st)"
      ],
      "metadata": {
        "colab": {
          "base_uri": "https://localhost:8080/"
        },
        "id": "6vhwbrfVuSgY",
        "outputId": "a2a78001-490b-4781-a7fa-c8eea2563373"
      },
      "execution_count": 73,
      "outputs": [
        {
          "output_type": "stream",
          "name": "stdout",
          "text": [
            "{'surat', 'mumbai', 'bilimora', 'puna', 'navsari'}\n"
          ]
        }
      ]
    },
    {
      "cell_type": "code",
      "source": [],
      "metadata": {
        "id": "8fsWHnJPuqV3"
      },
      "execution_count": null,
      "outputs": []
    }
  ]
}